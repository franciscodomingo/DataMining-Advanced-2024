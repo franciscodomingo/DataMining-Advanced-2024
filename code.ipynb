{
 "cells": [
  {
   "cell_type": "markdown",
   "metadata": {},
   "source": [
    "**Trabajo Práctico III**\n",
    "\n",
    "---\n",
    "Tecnicatura Universitaria en Inteligencia Artificial\n",
    "\n",
    "Materia: Minería de Datos\n",
    "\n",
    "Fecha de entrega: 17-06\n",
    "\n",
    "Estudiantes:\n",
    "\n",
    "*   Domingo, Francisco\n",
    "*   Valeri, Lara Rita\n",
    "\n",
    "Año de cursada: 1° cuatrimestre 2024\n",
    "\n",
    "Docentes:\n",
    "* Flavio E. Spetale\n",
    "* Facundo Vasquez"
   ]
  },
  {
   "cell_type": "markdown",
   "metadata": {},
   "source": [
    "# Importamos las librerias"
   ]
  },
  {
   "cell_type": "code",
   "execution_count": 2,
   "metadata": {},
   "outputs": [],
   "source": [
    "import pandas as pd\n",
    "import matplotlib.pyplot as plt\n",
    "import seaborn as sns\n",
    "import numpy as np\n",
    "from sklearn.preprocessing import LabelEncoder\n",
    "from sklearn.preprocessing import StandardScaler\n",
    "from sklearn.preprocessing import MinMaxScaler\n",
    "from sklearn.model_selection import train_test_split\n",
    "import warnings\n",
    "from sklearn.metrics import precision_score, recall_score\n",
    "\n",
    "from sklearn.svm import SVC\n",
    "from sklearn.metrics import accuracy_score,  confusion_matrix, ConfusionMatrixDisplay\n",
    "from sklearn.model_selection import cross_val_score, StratifiedKFold\n",
    "\n",
    "from sklearn.ensemble import RandomForestClassifier\n",
    "from sklearn.model_selection import cross_val_score\n",
    "from sklearn.model_selection import cross_validate, StratifiedKFold\n",
    "from sklearn.metrics import make_scorer, classification_report\n",
    "from imblearn.over_sampling import SMOTE"
   ]
  },
  {
   "cell_type": "code",
   "execution_count": 3,
   "metadata": {},
   "outputs": [],
   "source": [
    "# Para ignorar los Warnings\n",
    "warnings.filterwarnings('ignore')"
   ]
  },
  {
   "cell_type": "markdown",
   "metadata": {},
   "source": [
    "# 1) Análisis de los datos"
   ]
  },
  {
   "cell_type": "markdown",
   "metadata": {},
   "source": [
    "## Descarga del data set"
   ]
  },
  {
   "cell_type": "code",
   "execution_count": 4,
   "metadata": {},
   "outputs": [
    {
     "name": "stdout",
     "output_type": "stream",
     "text": [
      "   Scores_Aroma  Scores_Flavor  Scores_Aftertaste  Scores_Acidity  \\\n",
      "0            85             85                 80              80   \n",
      "1            85            817                 80             775   \n",
      "2           833             80                 80              80   \n",
      "3            80             80                 80             767   \n",
      "4            80            792                775             775   \n",
      "\n",
      "   Scores_Body  Scores_Balance  Scores_Uniformity  Scores_Sweetness  \\\n",
      "0           80              80                100               100   \n",
      "1           80              80                100               100   \n",
      "2          775              80                100               100   \n",
      "3          775              80                100               100   \n",
      "4           80             775                100               100   \n",
      "\n",
      "   Scores_Moisture  Scores_Total       Color  \n",
      "0               12          8692       Green  \n",
      "1               12          8642       Green  \n",
      "2               11          8608  Blue-Green  \n",
      "3               11          8542  Blue-Green  \n",
      "4               11          8492       Green  \n"
     ]
    }
   ],
   "source": [
    "# Generación de dataframe a partir del CSV\n",
    "df = pd.read_csv('CoffeeRatings.csv', delimiter=';')\n",
    "\n",
    "# Visualización de las primeras 5 filas para conocer la estructura de los datos\n",
    "print(df.head())"
   ]
  },
  {
   "cell_type": "code",
   "execution_count": 5,
   "metadata": {},
   "outputs": [
    {
     "name": "stdout",
     "output_type": "stream",
     "text": [
      "   Scores_Aroma  Scores_Flavor  Scores_Aftertaste  Scores_Acidity  \\\n",
      "0            85             85                 80              80   \n",
      "1            85            817                 80             775   \n",
      "2           833             80                 80              80   \n",
      "3            80             80                 80             767   \n",
      "4            80            792                775             775   \n",
      "\n",
      "   Scores_Body  Scores_Balance  Scores_Uniformity  Scores_Sweetness  \\\n",
      "0           80              80                100               100   \n",
      "1           80              80                100               100   \n",
      "2          775              80                100               100   \n",
      "3          775              80                100               100   \n",
      "4           80             775                100               100   \n",
      "\n",
      "   Scores_Moisture       Color  \n",
      "0               12       Green  \n",
      "1               12       Green  \n",
      "2               11  Blue-Green  \n",
      "3               11  Blue-Green  \n",
      "4               11       Green  \n"
     ]
    }
   ],
   "source": [
    "# Se nos solicito eliminar la columna Scores_Total\n",
    "\n",
    "df = df.drop('Scores_Total', axis=1)\n",
    "print(df.head())"
   ]
  },
  {
   "cell_type": "markdown",
   "metadata": {},
   "source": [
    "## Análisis de los datos"
   ]
  },
  {
   "cell_type": "code",
   "execution_count": 6,
   "metadata": {},
   "outputs": [
    {
     "name": "stdout",
     "output_type": "stream",
     "text": [
      "<class 'pandas.core.frame.DataFrame'>\n",
      "RangeIndex: 835 entries, 0 to 834\n",
      "Data columns (total 10 columns):\n",
      " #   Column             Non-Null Count  Dtype \n",
      "---  ------             --------------  ----- \n",
      " 0   Scores_Aroma       835 non-null    int64 \n",
      " 1   Scores_Flavor      835 non-null    int64 \n",
      " 2   Scores_Aftertaste  835 non-null    int64 \n",
      " 3   Scores_Acidity     835 non-null    int64 \n",
      " 4   Scores_Body        835 non-null    int64 \n",
      " 5   Scores_Balance     835 non-null    int64 \n",
      " 6   Scores_Uniformity  835 non-null    int64 \n",
      " 7   Scores_Sweetness   835 non-null    int64 \n",
      " 8   Scores_Moisture    835 non-null    int64 \n",
      " 9   Color              835 non-null    object\n",
      "dtypes: int64(9), object(1)\n",
      "memory usage: 65.4+ KB\n",
      "None\n"
     ]
    }
   ],
   "source": [
    "# Veamos si tenemos datos nulos\n",
    "print(df.info())"
   ]
  },
  {
   "cell_type": "markdown",
   "metadata": {},
   "source": [
    "Podemos observar que no tenemos datos nulos y que los datos pueden ser enteros y objetos. Analizamos un poco más el tipo de datos, unidad de medida y que representan en el contexto del dataset."
   ]
  },
  {
   "cell_type": "code",
   "execution_count": 7,
   "metadata": {},
   "outputs": [
    {
     "data": {
      "text/html": [
       "<div>\n",
       "<style scoped>\n",
       "    .dataframe tbody tr th:only-of-type {\n",
       "        vertical-align: middle;\n",
       "    }\n",
       "\n",
       "    .dataframe tbody tr th {\n",
       "        vertical-align: top;\n",
       "    }\n",
       "\n",
       "    .dataframe thead th {\n",
       "        text-align: right;\n",
       "    }\n",
       "</style>\n",
       "<table border=\"1\" class=\"dataframe\">\n",
       "  <thead>\n",
       "    <tr style=\"text-align: right;\">\n",
       "      <th></th>\n",
       "      <th>Scores_Aroma</th>\n",
       "      <th>Scores_Flavor</th>\n",
       "      <th>Scores_Aftertaste</th>\n",
       "      <th>Scores_Acidity</th>\n",
       "      <th>Scores_Body</th>\n",
       "      <th>Scores_Balance</th>\n",
       "      <th>Scores_Uniformity</th>\n",
       "      <th>Scores_Sweetness</th>\n",
       "      <th>Scores_Moisture</th>\n",
       "    </tr>\n",
       "  </thead>\n",
       "  <tbody>\n",
       "    <tr>\n",
       "      <th>count</th>\n",
       "      <td>835.000000</td>\n",
       "      <td>835.000000</td>\n",
       "      <td>835.000000</td>\n",
       "      <td>835.000000</td>\n",
       "      <td>835.000000</td>\n",
       "      <td>835.000000</td>\n",
       "      <td>835.000000</td>\n",
       "      <td>835.000000</td>\n",
       "      <td>835.000000</td>\n",
       "    </tr>\n",
       "    <tr>\n",
       "      <th>mean</th>\n",
       "      <td>623.726946</td>\n",
       "      <td>615.576048</td>\n",
       "      <td>611.677844</td>\n",
       "      <td>617.116168</td>\n",
       "      <td>610.330539</td>\n",
       "      <td>611.276647</td>\n",
       "      <td>191.758084</td>\n",
       "      <td>157.644311</td>\n",
       "      <td>8.231138</td>\n",
       "    </tr>\n",
       "    <tr>\n",
       "      <th>std</th>\n",
       "      <td>273.720152</td>\n",
       "      <td>274.245606</td>\n",
       "      <td>263.865747</td>\n",
       "      <td>274.480062</td>\n",
       "      <td>276.366482</td>\n",
       "      <td>276.300203</td>\n",
       "      <td>257.583828</td>\n",
       "      <td>203.439529</td>\n",
       "      <td>5.130245</td>\n",
       "    </tr>\n",
       "    <tr>\n",
       "      <th>min</th>\n",
       "      <td>0.000000</td>\n",
       "      <td>0.000000</td>\n",
       "      <td>0.000000</td>\n",
       "      <td>0.000000</td>\n",
       "      <td>0.000000</td>\n",
       "      <td>0.000000</td>\n",
       "      <td>0.000000</td>\n",
       "      <td>0.000000</td>\n",
       "      <td>0.000000</td>\n",
       "    </tr>\n",
       "    <tr>\n",
       "      <th>25%</th>\n",
       "      <td>717.000000</td>\n",
       "      <td>708.000000</td>\n",
       "      <td>683.000000</td>\n",
       "      <td>717.000000</td>\n",
       "      <td>708.000000</td>\n",
       "      <td>692.000000</td>\n",
       "      <td>100.000000</td>\n",
       "      <td>100.000000</td>\n",
       "      <td>1.000000</td>\n",
       "    </tr>\n",
       "    <tr>\n",
       "      <th>50%</th>\n",
       "      <td>758.000000</td>\n",
       "      <td>742.000000</td>\n",
       "      <td>733.000000</td>\n",
       "      <td>742.000000</td>\n",
       "      <td>742.000000</td>\n",
       "      <td>742.000000</td>\n",
       "      <td>100.000000</td>\n",
       "      <td>100.000000</td>\n",
       "      <td>11.000000</td>\n",
       "    </tr>\n",
       "    <tr>\n",
       "      <th>75%</th>\n",
       "      <td>775.000000</td>\n",
       "      <td>767.000000</td>\n",
       "      <td>758.000000</td>\n",
       "      <td>767.000000</td>\n",
       "      <td>767.000000</td>\n",
       "      <td>767.000000</td>\n",
       "      <td>100.000000</td>\n",
       "      <td>100.000000</td>\n",
       "      <td>12.000000</td>\n",
       "    </tr>\n",
       "    <tr>\n",
       "      <th>max</th>\n",
       "      <td>875.000000</td>\n",
       "      <td>883.000000</td>\n",
       "      <td>867.000000</td>\n",
       "      <td>875.000000</td>\n",
       "      <td>842.000000</td>\n",
       "      <td>858.000000</td>\n",
       "      <td>933.000000</td>\n",
       "      <td>933.000000</td>\n",
       "      <td>17.000000</td>\n",
       "    </tr>\n",
       "  </tbody>\n",
       "</table>\n",
       "</div>"
      ],
      "text/plain": [
       "       Scores_Aroma  Scores_Flavor  Scores_Aftertaste  Scores_Acidity  \\\n",
       "count    835.000000     835.000000         835.000000      835.000000   \n",
       "mean     623.726946     615.576048         611.677844      617.116168   \n",
       "std      273.720152     274.245606         263.865747      274.480062   \n",
       "min        0.000000       0.000000           0.000000        0.000000   \n",
       "25%      717.000000     708.000000         683.000000      717.000000   \n",
       "50%      758.000000     742.000000         733.000000      742.000000   \n",
       "75%      775.000000     767.000000         758.000000      767.000000   \n",
       "max      875.000000     883.000000         867.000000      875.000000   \n",
       "\n",
       "       Scores_Body  Scores_Balance  Scores_Uniformity  Scores_Sweetness  \\\n",
       "count   835.000000      835.000000         835.000000        835.000000   \n",
       "mean    610.330539      611.276647         191.758084        157.644311   \n",
       "std     276.366482      276.300203         257.583828        203.439529   \n",
       "min       0.000000        0.000000           0.000000          0.000000   \n",
       "25%     708.000000      692.000000         100.000000        100.000000   \n",
       "50%     742.000000      742.000000         100.000000        100.000000   \n",
       "75%     767.000000      767.000000         100.000000        100.000000   \n",
       "max     842.000000      858.000000         933.000000        933.000000   \n",
       "\n",
       "       Scores_Moisture  \n",
       "count       835.000000  \n",
       "mean          8.231138  \n",
       "std           5.130245  \n",
       "min           0.000000  \n",
       "25%           1.000000  \n",
       "50%          11.000000  \n",
       "75%          12.000000  \n",
       "max          17.000000  "
      ]
     },
     "execution_count": 7,
     "metadata": {},
     "output_type": "execute_result"
    }
   ],
   "source": [
    "# A continuación obtenemos una tabla que describe nuestros datos: media, desvío, cuartiles, valores máximos y minimos para cada columna.\n",
    "df.describe()\n",
    "#Eso se realiza solo para las variables numéricas, es decir no se eincluye color"
   ]
  },
  {
   "cell_type": "code",
   "execution_count": 8,
   "metadata": {},
   "outputs": [
    {
     "data": {
      "text/plain": [
       "Index(['Scores_Aroma', 'Scores_Flavor', 'Scores_Aftertaste', 'Scores_Acidity',\n",
       "       'Scores_Body', 'Scores_Balance', 'Scores_Uniformity',\n",
       "       'Scores_Sweetness', 'Scores_Moisture', 'Color'],\n",
       "      dtype='object')"
      ]
     },
     "execution_count": 8,
     "metadata": {},
     "output_type": "execute_result"
    }
   ],
   "source": [
    "df.columns"
   ]
  },
  {
   "cell_type": "markdown",
   "metadata": {},
   "source": [
    "- Scores_Aroma: Puntaje dado al aroma del café. El aroma se refiere al olor del café, que puede incluir notas florales, afrutadas, especiadas, etc.\n",
    "\n",
    "- Scores_Flavor: Puntaje dado al sabor del café. Esto incluye el perfil de sabor completo del café, incluyendo la riqueza, complejidad y la combinación de diferentes sabores.\n",
    "\n",
    "- Scores_Aftertaste: Puntaje dado al retrogusto del café. El aftertaste se refiere a los sabores que persisten en la boca después de tragar el café.\n",
    "\n",
    "- Scores_Acidity: Puntaje dado a la acidez del café. La acidez en el café no se refiere al nivel de pH, sino a una calidad brillante y viva en el sabor, similar a la sensación que se obtiene de los cítricos.\n",
    "\n",
    "- Scores_Body: Puntaje dado al cuerpo del café. El cuerpo se refiere a la sensación en la boca del café, como la viscosidad y la riqueza. Puede ser ligero, medio o completo.\n",
    "\n",
    "- Scores_Balance: Puntaje dado al equilibrio del café. Esto se refiere a cómo se integran y complementan los diferentes atributos del café (acidez, sabor, cuerpo, etc.).\n",
    "\n",
    "- Scores_Uniformity: Puntaje dado a la uniformidad del café. Esto evalúa la consistencia de las características del café a través de diferentes muestras o preparaciones.\n",
    "\n",
    "- Scores_Sweetness: Puntaje dado a la dulzura del café. Esto se refiere a la presencia de sabores dulces naturales en el café, sin añadir azúcar.\n",
    "\n",
    "- Scores_Moisture: Puntaje dado al contenido de humedad del café. Esto mide la cantidad de agua presente en los granos de café, que puede afectar la calidad y el almacenamiento del café.\n",
    "\n",
    "- Color: Representa el color del café, que puede referirse al color de los granos tostados o al color del café preparado. "
   ]
  },
  {
   "cell_type": "code",
   "execution_count": 9,
   "metadata": {},
   "outputs": [
    {
     "data": {
      "text/plain": [
       "array(['Green', 'Blue-Green', 'Bluish-Green'], dtype=object)"
      ]
     },
     "execution_count": 9,
     "metadata": {},
     "output_type": "execute_result"
    }
   ],
   "source": [
    "color = df['Color'].unique()\n",
    "color"
   ]
  },
  {
   "cell_type": "code",
   "execution_count": 10,
   "metadata": {},
   "outputs": [
    {
     "name": "stdout",
     "output_type": "stream",
     "text": [
      "Códigos para identificar a los colores: \n",
      "Color       Código\n",
      "Green         2         \n",
      "Blue-Green    0         \n",
      "Bluish-Green  1         \n"
     ]
    }
   ],
   "source": [
    "# Vamos a codificar esta columna\n",
    "le = LabelEncoder()\n",
    "df['Color'] = le.fit_transform(df['Color'])\n",
    "# Veamos el resultado\n",
    "colores_enc = df['Color'].unique()\n",
    "print(\"Códigos para identificar a los colores: \")\n",
    "print('Color', '      Código')\n",
    "for cu, co in zip(color, colores_enc):\n",
    "    print('{:<13} {:<10}'.format(cu, co))"
   ]
  },
  {
   "cell_type": "code",
   "execution_count": 11,
   "metadata": {},
   "outputs": [
    {
     "name": "stdout",
     "output_type": "stream",
     "text": [
      "Color\n",
      "2    681\n",
      "1     96\n",
      "0     58\n",
      "Name: count, dtype: int64\n"
     ]
    }
   ],
   "source": [
    "conteo_colores = df['Color'].value_counts()\n",
    "print(conteo_colores)\n"
   ]
  },
  {
   "cell_type": "code",
   "execution_count": 12,
   "metadata": {},
   "outputs": [
    {
     "data": {
      "image/png": "[encoded data removed]",
      "text/plain": [
       "<Figure size 1600x1200 with 9 Axes>"
      ]
     },
     "metadata": {},
     "output_type": "display_data"
    }
   ],
   "source": [
    "# Listamos las variables numéricas del DataFrame\n",
    "variables_numericas = ['Scores_Aroma', 'Scores_Flavor', 'Scores_Aftertaste', 'Scores_Acidity',\n",
    "                       'Scores_Body', 'Scores_Balance', 'Scores_Uniformity',\n",
    "                       'Scores_Sweetness', 'Scores_Moisture']\n",
    "\n",
    "# Creamos un grid de subplots\n",
    "fig, axs = plt.subplots(3, 3, figsize=(16, 12))\n",
    "\n",
    "for i, variable in enumerate(variables_numericas):\n",
    "    fila = i // 3\n",
    "    columna = i % 3\n",
    "    axs[fila, columna].hist(df[variable], bins=20, color='skyblue', edgecolor='black')\n",
    "    axs[fila, columna].set_xlabel(variable)\n",
    "    axs[fila, columna].set_ylabel('Frecuencia')\n",
    "    axs[fila, columna].set_title('Histograma de ' + variable)\n",
    "\n",
    "plt.tight_layout()\n",
    "plt.show()"
   ]
  },
  {
   "cell_type": "markdown",
   "metadata": {},
   "source": [
    "La mayoría de las características sensoriales del café (aroma, sabor, retrogusto, acidez, cuerpo y equilibrio) tienen puntuaciones altas predominantes (entre 700 y 800 aproximadamente), lo que sugiere que las muestras de café evaluadas son de alta calidad en estos aspectos.\n",
    "\n",
    "Las puntuaciones de uniformidad y dulzura muestran una gran variabilidad, con muchas muestras teniendo puntuaciones muy bajas, lo que podría indicar inconsistencia en estos atributos o una evaluación más estricta.\n",
    "\n",
    "La humedad del café parece estar más concentrada en un rango específico (10-12.5)."
   ]
  },
  {
   "cell_type": "markdown",
   "metadata": {},
   "source": [
    "## Outliers"
   ]
  },
  {
   "cell_type": "code",
   "execution_count": 13,
   "metadata": {},
   "outputs": [
    {
     "data": {
      "image/png": "[encoded data removed]",
      "text/plain": [
       "<Figure size 800x200 with 1 Axes>"
      ]
     },
     "metadata": {},
     "output_type": "display_data"
    },
    {
     "data": {
      "image/png": "[encoded data removed]",
      "text/plain": [
       "<Figure size 800x200 with 1 Axes>"
      ]
     },
     "metadata": {},
     "output_type": "display_data"
    },
    {
     "data": {
      "image/png": "[encoded data removed]",
      "text/plain": [
       "<Figure size 800x200 with 1 Axes>"
      ]
     },
     "metadata": {},
     "output_type": "display_data"
    },
    {
     "data": {
      "image/png": "[encoded data removed]",
      "text/plain": [
       "<Figure size 800x200 with 1 Axes>"
      ]
     },
     "metadata": {},
     "output_type": "display_data"
    },
    {
     "data": {
      "image/png": "[encoded data removed]",
      "text/plain": [
       "<Figure size 800x200 with 1 Axes>"
      ]
     },
     "metadata": {},
     "output_type": "display_data"
    },
    {
     "data": {
      "image/png": "[encoded data removed]",
      "text/plain": [
       "<Figure size 800x200 with 1 Axes>"
      ]
     },
     "metadata": {},
     "output_type": "display_data"
    },
    {
     "data": {
      "image/png": "[encoded data removed]",
      "text/plain": [
       "<Figure size 800x200 with 1 Axes>"
      ]
     },
     "metadata": {},
     "output_type": "display_data"
    },
    {
     "data": {
      "image/png": "[encoded data removed]",
      "text/plain": [
       "<Figure size 800x200 with 1 Axes>"
      ]
     },
     "metadata": {},
     "output_type": "display_data"
    },
    {
     "data": {
      "image/png": "[encoded data removed]",
      "text/plain": [
       "<Figure size 800x200 with 1 Axes>"
      ]
     },
     "metadata": {},
     "output_type": "display_data"
    }
   ],
   "source": [
    "for variable in variables_numericas:\n",
    "    plt.figure(figsize=(8, 2))\n",
    "    plt.boxplot(df[variable], vert=False)\n",
    "    plt.xlabel('Valor')\n",
    "    plt.ylabel(variable)\n",
    "    plt.title('Boxplot de ' + variable)\n",
    "    plt.show()"
   ]
  },
  {
   "cell_type": "markdown",
   "metadata": {},
   "source": [
    "Analizaremos cantidad de valores atípicos y el porcentaje que representa, vamos a excluir la variable Scores_Moisture ya que a partir del Boxplot podemos observar que no contiene valores atípicos."
   ]
  },
  {
   "cell_type": "code",
   "execution_count": 14,
   "metadata": {},
   "outputs": [
    {
     "name": "stdout",
     "output_type": "stream",
     "text": [
      "Cantidad de valores atípicos en 'Scores_Aroma': 166\n",
      "Porcentaje de valores atípicos en 'Scores_Aroma': 19.88%\n",
      "Cantidad de valores atípicos en 'Scores_Flavor': 169\n",
      "Porcentaje de valores atípicos en 'Scores_Flavor': 20.24%\n",
      "Cantidad de valores atípicos en 'Scores_Aftertaste': 160\n",
      "Porcentaje de valores atípicos en 'Scores_Aftertaste': 19.16%\n",
      "Cantidad de valores atípicos en 'Scores_Acidity': 171\n",
      "Porcentaje de valores atípicos en 'Scores_Acidity': 20.48%\n",
      "Cantidad de valores atípicos en 'Scores_Body': 176\n",
      "Porcentaje de valores atípicos en 'Scores_Body': 21.08%\n",
      "Cantidad de valores atípicos en 'Scores_Balance': 174\n",
      "Porcentaje de valores atípicos en 'Scores_Balance': 20.84%\n",
      "Cantidad de valores atípicos en 'Scores_Uniformity': 115\n",
      "Porcentaje de valores atípicos en 'Scores_Uniformity': 13.77%\n",
      "Cantidad de valores atípicos en 'Scores_Sweetness': 79\n",
      "Porcentaje de valores atípicos en 'Scores_Sweetness': 9.46%\n"
     ]
    }
   ],
   "source": [
    "def count_outliers(group):\n",
    "    Q1 = group.quantile(0.25)\n",
    "    Q3 = group.quantile(0.75)\n",
    "    IQR = Q3 - Q1\n",
    "    lower_bound = Q1 - 2 * IQR\n",
    "    upper_bound = Q3 + 2 * IQR\n",
    "    outliers = group[(group < lower_bound) | (group > upper_bound)]\n",
    "    count = outliers.count()\n",
    "    percentage = 100 * count / group.count()\n",
    "    return count, percentage\n",
    "\n",
    "columns_to_check = ['Scores_Aroma', 'Scores_Flavor', 'Scores_Aftertaste', \n",
    "                    'Scores_Acidity', 'Scores_Body', 'Scores_Balance', \n",
    "                    'Scores_Uniformity', 'Scores_Sweetness']\n",
    "\n",
    "outliers_info = {}\n",
    "\n",
    "for col in columns_to_check:\n",
    "    outliers_count, outliers_percentage = count_outliers(df[col])\n",
    "    outliers_info[col] = {'count': outliers_count, 'percentage': outliers_percentage}\n",
    "\n",
    "# Imprimir resultados\n",
    "for col, info in outliers_info.items():\n",
    "    print(f\"Cantidad de valores atípicos en '{col}': {info['count']}\")\n",
    "    print(f\"Porcentaje de valores atípicos en '{col}': {info['percentage']:.2f}%\")\n"
   ]
  },
  {
   "cell_type": "markdown",
   "metadata": {},
   "source": [
    "Podemos observar que todas las variables tiene valores atípicos, entre el 10 y el 20"
   ]
  },
  {
   "cell_type": "code",
   "execution_count": 15,
   "metadata": {},
   "outputs": [
    {
     "name": "stdout",
     "output_type": "stream",
     "text": [
      "   Scores_Aroma  Scores_Flavor  Scores_Aftertaste  Scores_Acidity  \\\n",
      "2           135            142                131             146   \n",
      "0            12             14                 16               7   \n",
      "1            21             20                 13              20   \n",
      "\n",
      "   Scores_Body  Scores_Balance  Scores_Uniformity  Scores_Sweetness  \\\n",
      "2          140             139                 95                61   \n",
      "0           24              18                  5                 5   \n",
      "1           12              17                 15                13   \n",
      "\n",
      "   Scores_Moisture  \n",
      "2                0  \n",
      "0                0  \n",
      "1                0  \n"
     ]
    }
   ],
   "source": [
    "#Cantidad de valores atípicos por color\n",
    "import pandas as pd\n",
    "\n",
    "# Supongamos que tu DataFrame se llama df\n",
    "\n",
    "def contar_outliers_por_color(df, columnas_scores, columna_color):\n",
    "    outliers_dict = {color: {col: 0 for col in columnas_scores} for color in df[columna_color].unique()}\n",
    "\n",
    "    for columna in columnas_scores:\n",
    "        Q1 = df[columna].quantile(0.25)\n",
    "        Q3 = df[columna].quantile(0.75)\n",
    "        IQR = Q3 - Q1\n",
    "        limite_inferior = Q1 - 1.5 * IQR\n",
    "        limite_superior = Q3 + 1.5 * IQR\n",
    "\n",
    "        outliers = df[(df[columna] < limite_inferior) | (df[columna] > limite_superior)]\n",
    "\n",
    "        for color in outliers[columna_color].unique():\n",
    "            outliers_count = outliers[outliers[columna_color] == color].shape[0]\n",
    "            outliers_dict[color][columna] += outliers_count\n",
    "\n",
    "    return outliers_dict\n",
    "\n",
    "columnas_scores = ['Scores_Aroma', 'Scores_Flavor', 'Scores_Aftertaste', 'Scores_Acidity',\n",
    "                   'Scores_Body', 'Scores_Balance', 'Scores_Uniformity',\n",
    "                   'Scores_Sweetness', 'Scores_Moisture']\n",
    "\n",
    "columna_color = 'Color'\n",
    "\n",
    "outliers_por_color = contar_outliers_por_color(df, columnas_scores, columna_color)\n",
    "outliers_por_color\n",
    "outliers_df = pd.DataFrame(outliers_por_color).transpose()\n",
    "print(outliers_df)"
   ]
  },
  {
   "cell_type": "markdown",
   "metadata": {},
   "source": [
    "Podemos observar que las columnas Scores_Uniformity', 'Scores_Sweetness' y 'Scores_Moisture' no tienen valores atípicos al clasificar por color. Realizaremos un tratamiento para las demas columnas."
   ]
  },
  {
   "cell_type": "code",
   "execution_count": 16,
   "metadata": {},
   "outputs": [
    {
     "name": "stdout",
     "output_type": "stream",
     "text": [
      "Cantidad de valores atípicos en 'Scores_Aroma': 11\n",
      "Porcentaje de valores atípicos en 'Scores_Aroma': 1.32%\n",
      "Cantidad de valores atípicos en 'Scores_Flavor': 31\n",
      "Porcentaje de valores atípicos en 'Scores_Flavor': 3.71%\n",
      "Cantidad de valores atípicos en 'Scores_Aftertaste': 37\n",
      "Porcentaje de valores atípicos en 'Scores_Aftertaste': 4.43%\n",
      "Cantidad de valores atípicos en 'Scores_Acidity': 23\n",
      "Porcentaje de valores atípicos en 'Scores_Acidity': 2.75%\n",
      "Cantidad de valores atípicos en 'Scores_Body': 28\n",
      "Porcentaje de valores atípicos en 'Scores_Body': 3.35%\n",
      "Cantidad de valores atípicos en 'Scores_Balance': 31\n",
      "Porcentaje de valores atípicos en 'Scores_Balance': 3.71%\n"
     ]
    }
   ],
   "source": [
    "import pandas as pd\n",
    "\n",
    "# Reemplazamos los valores atípicos por la mediana del grupo de color\n",
    "def replace_outliers_with_group_median(df, group_column, target_columns):\n",
    "    for column in target_columns:\n",
    "        for name, group in df.groupby(group_column):\n",
    "            Q1 = group[column].quantile(0.25)\n",
    "            Q3 = group[column].quantile(0.75)\n",
    "            IQR = Q3 - Q1\n",
    "            lower_bound = Q1 - 2 * IQR\n",
    "            upper_bound = Q3 + 2 * IQR\n",
    "            \n",
    "            median_value = group[column].median()\n",
    "            condition = (df[group_column] == name) & ((df[column] < lower_bound) | (df[column] > upper_bound))\n",
    "            df.loc[condition, column] = median_value\n",
    "    return df\n",
    "\n",
    "# Cantidad de valores atípicos que quedaron \n",
    "def count_outliers(series):\n",
    "    Q1 = series.quantile(0.25)\n",
    "    Q3 = series.quantile(0.75)\n",
    "    IQR = Q3 - Q1\n",
    "    lower_bound = Q1 - 2 * IQR\n",
    "    upper_bound = Q3 + 2 * IQR\n",
    "    \n",
    "    outliers = series[(series < lower_bound) | (series > upper_bound)]\n",
    "    count = len(outliers)\n",
    "    percentage = (count / len(series)) * 100\n",
    "    return count, percentage\n",
    "\n",
    "columns_to_check = ['Scores_Aroma', 'Scores_Flavor', 'Scores_Aftertaste', 'Scores_Acidity',\n",
    "                    'Scores_Body', 'Scores_Balance']\n",
    "group_column = 'Color'\n",
    "\n",
    "# Reemplazamos valores atípicos para cada columna y grupo de color\n",
    "df = replace_outliers_with_group_median(df, group_column, columns_to_check)\n",
    "\n",
    "\n",
    "outliers_info = {}\n",
    "for col in columns_to_check:\n",
    "    outliers_count, outliers_percentage = count_outliers(df[col])\n",
    "    outliers_info[col] = {'count': outliers_count, 'percentage': outliers_percentage}\n",
    "\n",
    "for col, info in outliers_info.items():\n",
    "    print(f\"Cantidad de valores atípicos en '{col}': {info['count']}\")\n",
    "    print(f\"Porcentaje de valores atípicos en '{col}': {info['percentage']:.2f}%\")\n"
   ]
  },
  {
   "cell_type": "markdown",
   "metadata": {},
   "source": [
    "Completamos los valores atipicos con la mediana y logramos reducir significativamente los mismos.\n",
    "Como el porcentaje es pequeño decidimos dejar los valores atipicos obtenidos."
   ]
  },
  {
   "cell_type": "markdown",
   "metadata": {},
   "source": [
    "## Estandarización"
   ]
  },
  {
   "cell_type": "markdown",
   "metadata": {},
   "source": [
    "Para la estandarización no incluimos la columna Colors, ya que no es una variable continua"
   ]
  },
  {
   "cell_type": "code",
   "execution_count": 17,
   "metadata": {},
   "outputs": [
    {
     "data": {
      "text/plain": [
       "['Scores_Aroma',\n",
       " 'Scores_Flavor',\n",
       " 'Scores_Aftertaste',\n",
       " 'Scores_Acidity',\n",
       " 'Scores_Body',\n",
       " 'Scores_Balance',\n",
       " 'Scores_Uniformity',\n",
       " 'Scores_Sweetness',\n",
       " 'Scores_Moisture']"
      ]
     },
     "execution_count": 17,
     "metadata": {},
     "output_type": "execute_result"
    }
   ],
   "source": [
    "variables_numericas"
   ]
  },
  {
   "cell_type": "markdown",
   "metadata": {},
   "source": [
    "Para realizar la estandarización elegimos Max-Min ya que las variables no parecen tener una distribución normal por loq ue pudimos observar en los hsitogramas de cada una de ellas."
   ]
  },
  {
   "cell_type": "code",
   "execution_count": 18,
   "metadata": {},
   "outputs": [
    {
     "name": "stdout",
     "output_type": "stream",
     "text": [
      "   Scores_Aroma  Scores_Flavor  Scores_Aftertaste  Scores_Acidity  \\\n",
      "0        0.5342         0.4873             0.8319           0.468   \n",
      "1        0.5342         0.7600             0.8319           0.600   \n",
      "2        0.8547         0.5455             0.0125           0.532   \n",
      "3        0.5534         0.5455             0.0125           0.568   \n",
      "4        0.5342         0.6691             0.8846           0.600   \n",
      "\n",
      "   Scores_Body  Scores_Balance  Scores_Uniformity  Scores_Sweetness  \\\n",
      "0       0.8696          0.8519             0.1072            0.1072   \n",
      "1       0.8696          0.8519             0.1072            0.1072   \n",
      "2       0.9126          0.0064             0.1072            0.1072   \n",
      "3       0.9126          0.0064             0.1072            0.1072   \n",
      "4       0.8696          0.8940             0.1072            0.1072   \n",
      "\n",
      "   Scores_Moisture  Color  \n",
      "0           0.7059      2  \n",
      "1           0.7059      2  \n",
      "2           0.6471      0  \n",
      "3           0.6471      0  \n",
      "4           0.6471      2  \n"
     ]
    }
   ],
   "source": [
    "min_max_scaler = MinMaxScaler()\n",
    "df[variables_numericas] = min_max_scaler.fit_transform(df[variables_numericas])\n",
    "\n",
    "print(df.head().round(4))"
   ]
  },
  {
   "cell_type": "code",
   "execution_count": 19,
   "metadata": {},
   "outputs": [
    {
     "data": {
      "text/plain": [
       "array([2, 0, 1])"
      ]
     },
     "execution_count": 19,
     "metadata": {},
     "output_type": "execute_result"
    }
   ],
   "source": [
    "df['Color'].unique()"
   ]
  },
  {
   "cell_type": "code",
   "execution_count": 20,
   "metadata": {},
   "outputs": [],
   "source": [
    "# Dividimos los datos en train y test\n",
    "X = df.drop(columns = 'Color')\n",
    "y = df['Color']\n",
    "\n",
    "X_train, X_test, y_train, y_test = train_test_split(X, y,\n",
    "    train_size = 0.8, random_state = 42, shuffle = True)"
   ]
  },
  {
   "cell_type": "markdown",
   "metadata": {},
   "source": [
    "# 2) SVM con kernel lieal"
   ]
  },
  {
   "cell_type": "markdown",
   "metadata": {},
   "source": [
    "Realizar la predicción del atributo Color utilizando máquinas de vectores con kernel lineal analizando el parámetro costo. Mostar los resultados sobre los conjuntos de test\n",
    "(Precisión, Exhaustividad y Exactitud) utilizando validación cruzada con k =5."
   ]
  },
  {
   "cell_type": "code",
   "execution_count": 21,
   "metadata": {},
   "outputs": [
    {
     "data": {
      "text/html": [
       "<style>#sk-container-id-1 {\n",
       "  /* Definition of color scheme common for light and dark mode */\n",
       "  --sklearn-color-text: black;\n",
       "  --sklearn-color-line: gray;\n",
       "  /* Definition of color scheme for unfitted estimators */\n",
       "  --sklearn-color-unfitted-level-0: #fff5e6;\n",
       "  --sklearn-color-unfitted-level-1: #f6e4d2;\n",
       "  --sklearn-color-unfitted-level-2: #ffe0b3;\n",
       "  --sklearn-color-unfitted-level-3: chocolate;\n",
       "  /* Definition of color scheme for fitted estimators */\n",
       "  --sklearn-color-fitted-level-0: #f0f8ff;\n",
       "  --sklearn-color-fitted-level-1: #d4ebff;\n",
       "  --sklearn-color-fitted-level-2: #b3dbfd;\n",
       "  --sklearn-color-fitted-level-3: cornflowerblue;\n",
       "\n",
       "  /* Specific color for light theme */\n",
       "  --sklearn-color-text-on-default-background: var(--sg-text-color, var(--theme-code-foreground, var(--jp-content-font-color1, black)));\n",
       "  --sklearn-color-background: var(--sg-background-color, var(--theme-background, var(--jp-layout-color0, white)));\n",
       "  --sklearn-color-border-box: var(--sg-text-color, var(--theme-code-foreground, var(--jp-content-font-color1, black)));\n",
       "  --sklearn-color-icon: #696969;\n",
       "\n",
       "  @media (prefers-color-scheme: dark) {\n",
       "    /* Redefinition of color scheme for dark theme */\n",
       "    --sklearn-color-text-on-default-background: var(--sg-text-color, var(--theme-code-foreground, var(--jp-content-font-color1, white)));\n",
       "    --sklearn-color-background: var(--sg-background-color, var(--theme-background, var(--jp-layout-color0, #111)));\n",
       "    --sklearn-color-border-box: var(--sg-text-color, var(--theme-code-foreground, var(--jp-content-font-color1, white)));\n",
       "    --sklearn-color-icon: #878787;\n",
       "  }\n",
       "}\n",
       "\n",
       "#sk-container-id-1 {\n",
       "  color: var(--sklearn-color-text);\n",
       "}\n",
       "\n",
       "#sk-container-id-1 pre {\n",
       "  padding: 0;\n",
       "}\n",
       "\n",
       "#sk-container-id-1 input.sk-hidden--visually {\n",
       "  border: 0;\n",
       "  clip: rect(1px 1px 1px 1px);\n",
       "  clip: rect(1px, 1px, 1px, 1px);\n",
       "  height: 1px;\n",
       "  margin: -1px;\n",
       "  overflow: hidden;\n",
       "  padding: 0;\n",
       "  position: absolute;\n",
       "  width: 1px;\n",
       "}\n",
       "\n",
       "#sk-container-id-1 div.sk-dashed-wrapped {\n",
       "  border: 1px dashed var(--sklearn-color-line);\n",
       "  margin: 0 0.4em 0.5em 0.4em;\n",
       "  box-sizing: border-box;\n",
       "  padding-bottom: 0.4em;\n",
       "  background-color: var(--sklearn-color-background);\n",
       "}\n",
       "\n",
       "#sk-container-id-1 div.sk-container {\n",
       "  /* jupyter's `normalize.less` sets `[hidden] { display: none; }`\n",
       "     but bootstrap.min.css set `[hidden] { display: none !important; }`\n",
       "     so we also need the `!important` here to be able to override the\n",
       "     default hidden behavior on the sphinx rendered scikit-learn.org.\n",
       "     See: https://github.com/scikit-learn/scikit-learn/issues/21755 */\n",
       "  display: inline-block !important;\n",
       "  position: relative;\n",
       "}\n",
       "\n",
       "#sk-container-id-1 div.sk-text-repr-fallback {\n",
       "  display: none;\n",
       "}\n",
       "\n",
       "div.sk-parallel-item,\n",
       "div.sk-serial,\n",
       "div.sk-item {\n",
       "  /* draw centered vertical line to link estimators */\n",
       "  background-image: linear-gradient(var(--sklearn-color-text-on-default-background), var(--sklearn-color-text-on-default-background));\n",
       "  background-size: 2px 100%;\n",
       "  background-repeat: no-repeat;\n",
       "  background-position: center center;\n",
       "}\n",
       "\n",
       "/* Parallel-specific style estimator block */\n",
       "\n",
       "#sk-container-id-1 div.sk-parallel-item::after {\n",
       "  content: \"\";\n",
       "  width: 100%;\n",
       "  border-bottom: 2px solid var(--sklearn-color-text-on-default-background);\n",
       "  flex-grow: 1;\n",
       "}\n",
       "\n",
       "#sk-container-id-1 div.sk-parallel {\n",
       "  display: flex;\n",
       "  align-items: stretch;\n",
       "  justify-content: center;\n",
       "  background-color: var(--sklearn-color-background);\n",
       "  position: relative;\n",
       "}\n",
       "\n",
       "#sk-container-id-1 div.sk-parallel-item {\n",
       "  display: flex;\n",
       "  flex-direction: column;\n",
       "}\n",
       "\n",
       "#sk-container-id-1 div.sk-parallel-item:first-child::after {\n",
       "  align-self: flex-end;\n",
       "  width: 50%;\n",
       "}\n",
       "\n",
       "#sk-container-id-1 div.sk-parallel-item:last-child::after {\n",
       "  align-self: flex-start;\n",
       "  width: 50%;\n",
       "}\n",
       "\n",
       "#sk-container-id-1 div.sk-parallel-item:only-child::after {\n",
       "  width: 0;\n",
       "}\n",
       "\n",
       "/* Serial-specific style estimator block */\n",
       "\n",
       "#sk-container-id-1 div.sk-serial {\n",
       "  display: flex;\n",
       "  flex-direction: column;\n",
       "  align-items: center;\n",
       "  background-color: var(--sklearn-color-background);\n",
       "  padding-right: 1em;\n",
       "  padding-left: 1em;\n",
       "}\n",
       "\n",
       "\n",
       "/* Toggleable style: style used for estimator/Pipeline/ColumnTransformer box that is\n",
       "clickable and can be expanded/collapsed.\n",
       "- Pipeline and ColumnTransformer use this feature and define the default style\n",
       "- Estimators will overwrite some part of the style using the `sk-estimator` class\n",
       "*/\n",
       "\n",
       "/* Pipeline and ColumnTransformer style (default) */\n",
       "\n",
       "#sk-container-id-1 div.sk-toggleable {\n",
       "  /* Default theme specific background. It is overwritten whether we have a\n",
       "  specific estimator or a Pipeline/ColumnTransformer */\n",
       "  background-color: var(--sklearn-color-background);\n",
       "}\n",
       "\n",
       "/* Toggleable label */\n",
       "#sk-container-id-1 label.sk-toggleable__label {\n",
       "  cursor: pointer;\n",
       "  display: block;\n",
       "  width: 100%;\n",
       "  margin-bottom: 0;\n",
       "  padding: 0.5em;\n",
       "  box-sizing: border-box;\n",
       "  text-align: center;\n",
       "}\n",
       "\n",
       "#sk-container-id-1 label.sk-toggleable__label-arrow:before {\n",
       "  /* Arrow on the left of the label */\n",
       "  content: \"▸\";\n",
       "  float: left;\n",
       "  margin-right: 0.25em;\n",
       "  color: var(--sklearn-color-icon);\n",
       "}\n",
       "\n",
       "#sk-container-id-1 label.sk-toggleable__label-arrow:hover:before {\n",
       "  color: var(--sklearn-color-text);\n",
       "}\n",
       "\n",
       "/* Toggleable content - dropdown */\n",
       "\n",
       "#sk-container-id-1 div.sk-toggleable__content {\n",
       "  max-height: 0;\n",
       "  max-width: 0;\n",
       "  overflow: hidden;\n",
       "  text-align: left;\n",
       "  /* unfitted */\n",
       "  background-color: var(--sklearn-color-unfitted-level-0);\n",
       "}\n",
       "\n",
       "#sk-container-id-1 div.sk-toggleable__content.fitted {\n",
       "  /* fitted */\n",
       "  background-color: var(--sklearn-color-fitted-level-0);\n",
       "}\n",
       "\n",
       "#sk-container-id-1 div.sk-toggleable__content pre {\n",
       "  margin: 0.2em;\n",
       "  border-radius: 0.25em;\n",
       "  color: var(--sklearn-color-text);\n",
       "  /* unfitted */\n",
       "  background-color: var(--sklearn-color-unfitted-level-0);\n",
       "}\n",
       "\n",
       "#sk-container-id-1 div.sk-toggleable__content.fitted pre {\n",
       "  /* unfitted */\n",
       "  background-color: var(--sklearn-color-fitted-level-0);\n",
       "}\n",
       "\n",
       "#sk-container-id-1 input.sk-toggleable__control:checked~div.sk-toggleable__content {\n",
       "  /* Expand drop-down */\n",
       "  max-height: 200px;\n",
       "  max-width: 100%;\n",
       "  overflow: auto;\n",
       "}\n",
       "\n",
       "#sk-container-id-1 input.sk-toggleable__control:checked~label.sk-toggleable__label-arrow:before {\n",
       "  content: \"▾\";\n",
       "}\n",
       "\n",
       "/* Pipeline/ColumnTransformer-specific style */\n",
       "\n",
       "#sk-container-id-1 div.sk-label input.sk-toggleable__control:checked~label.sk-toggleable__label {\n",
       "  color: var(--sklearn-color-text);\n",
       "  background-color: var(--sklearn-color-unfitted-level-2);\n",
       "}\n",
       "\n",
       "#sk-container-id-1 div.sk-label.fitted input.sk-toggleable__control:checked~label.sk-toggleable__label {\n",
       "  background-color: var(--sklearn-color-fitted-level-2);\n",
       "}\n",
       "\n",
       "/* Estimator-specific style */\n",
       "\n",
       "/* Colorize estimator box */\n",
       "#sk-container-id-1 div.sk-estimator input.sk-toggleable__control:checked~label.sk-toggleable__label {\n",
       "  /* unfitted */\n",
       "  background-color: var(--sklearn-color-unfitted-level-2);\n",
       "}\n",
       "\n",
       "#sk-container-id-1 div.sk-estimator.fitted input.sk-toggleable__control:checked~label.sk-toggleable__label {\n",
       "  /* fitted */\n",
       "  background-color: var(--sklearn-color-fitted-level-2);\n",
       "}\n",
       "\n",
       "#sk-container-id-1 div.sk-label label.sk-toggleable__label,\n",
       "#sk-container-id-1 div.sk-label label {\n",
       "  /* The background is the default theme color */\n",
       "  color: var(--sklearn-color-text-on-default-background);\n",
       "}\n",
       "\n",
       "/* On hover, darken the color of the background */\n",
       "#sk-container-id-1 div.sk-label:hover label.sk-toggleable__label {\n",
       "  color: var(--sklearn-color-text);\n",
       "  background-color: var(--sklearn-color-unfitted-level-2);\n",
       "}\n",
       "\n",
       "/* Label box, darken color on hover, fitted */\n",
       "#sk-container-id-1 div.sk-label.fitted:hover label.sk-toggleable__label.fitted {\n",
       "  color: var(--sklearn-color-text);\n",
       "  background-color: var(--sklearn-color-fitted-level-2);\n",
       "}\n",
       "\n",
       "/* Estimator label */\n",
       "\n",
       "#sk-container-id-1 div.sk-label label {\n",
       "  font-family: monospace;\n",
       "  font-weight: bold;\n",
       "  display: inline-block;\n",
       "  line-height: 1.2em;\n",
       "}\n",
       "\n",
       "#sk-container-id-1 div.sk-label-container {\n",
       "  text-align: center;\n",
       "}\n",
       "\n",
       "/* Estimator-specific */\n",
       "#sk-container-id-1 div.sk-estimator {\n",
       "  font-family: monospace;\n",
       "  border: 1px dotted var(--sklearn-color-border-box);\n",
       "  border-radius: 0.25em;\n",
       "  box-sizing: border-box;\n",
       "  margin-bottom: 0.5em;\n",
       "  /* unfitted */\n",
       "  background-color: var(--sklearn-color-unfitted-level-0);\n",
       "}\n",
       "\n",
       "#sk-container-id-1 div.sk-estimator.fitted {\n",
       "  /* fitted */\n",
       "  background-color: var(--sklearn-color-fitted-level-0);\n",
       "}\n",
       "\n",
       "/* on hover */\n",
       "#sk-container-id-1 div.sk-estimator:hover {\n",
       "  /* unfitted */\n",
       "  background-color: var(--sklearn-color-unfitted-level-2);\n",
       "}\n",
       "\n",
       "#sk-container-id-1 div.sk-estimator.fitted:hover {\n",
       "  /* fitted */\n",
       "  background-color: var(--sklearn-color-fitted-level-2);\n",
       "}\n",
       "\n",
       "/* Specification for estimator info (e.g. \"i\" and \"?\") */\n",
       "\n",
       "/* Common style for \"i\" and \"?\" */\n",
       "\n",
       ".sk-estimator-doc-link,\n",
       "a:link.sk-estimator-doc-link,\n",
       "a:visited.sk-estimator-doc-link {\n",
       "  float: right;\n",
       "  font-size: smaller;\n",
       "  line-height: 1em;\n",
       "  font-family: monospace;\n",
       "  background-color: var(--sklearn-color-background);\n",
       "  border-radius: 1em;\n",
       "  height: 1em;\n",
       "  width: 1em;\n",
       "  text-decoration: none !important;\n",
       "  margin-left: 1ex;\n",
       "  /* unfitted */\n",
       "  border: var(--sklearn-color-unfitted-level-1) 1pt solid;\n",
       "  color: var(--sklearn-color-unfitted-level-1);\n",
       "}\n",
       "\n",
       ".sk-estimator-doc-link.fitted,\n",
       "a:link.sk-estimator-doc-link.fitted,\n",
       "a:visited.sk-estimator-doc-link.fitted {\n",
       "  /* fitted */\n",
       "  border: var(--sklearn-color-fitted-level-1) 1pt solid;\n",
       "  color: var(--sklearn-color-fitted-level-1);\n",
       "}\n",
       "\n",
       "/* On hover */\n",
       "div.sk-estimator:hover .sk-estimator-doc-link:hover,\n",
       ".sk-estimator-doc-link:hover,\n",
       "div.sk-label-container:hover .sk-estimator-doc-link:hover,\n",
       ".sk-estimator-doc-link:hover {\n",
       "  /* unfitted */\n",
       "  background-color: var(--sklearn-color-unfitted-level-3);\n",
       "  color: var(--sklearn-color-background);\n",
       "  text-decoration: none;\n",
       "}\n",
       "\n",
       "div.sk-estimator.fitted:hover .sk-estimator-doc-link.fitted:hover,\n",
       ".sk-estimator-doc-link.fitted:hover,\n",
       "div.sk-label-container:hover .sk-estimator-doc-link.fitted:hover,\n",
       ".sk-estimator-doc-link.fitted:hover {\n",
       "  /* fitted */\n",
       "  background-color: var(--sklearn-color-fitted-level-3);\n",
       "  color: var(--sklearn-color-background);\n",
       "  text-decoration: none;\n",
       "}\n",
       "\n",
       "/* Span, style for the box shown on hovering the info icon */\n",
       ".sk-estimator-doc-link span {\n",
       "  display: none;\n",
       "  z-index: 9999;\n",
       "  position: relative;\n",
       "  font-weight: normal;\n",
       "  right: .2ex;\n",
       "  padding: .5ex;\n",
       "  margin: .5ex;\n",
       "  width: min-content;\n",
       "  min-width: 20ex;\n",
       "  max-width: 50ex;\n",
       "  color: var(--sklearn-color-text);\n",
       "  box-shadow: 2pt 2pt 4pt #999;\n",
       "  /* unfitted */\n",
       "  background: var(--sklearn-color-unfitted-level-0);\n",
       "  border: .5pt solid var(--sklearn-color-unfitted-level-3);\n",
       "}\n",
       "\n",
       ".sk-estimator-doc-link.fitted span {\n",
       "  /* fitted */\n",
       "  background: var(--sklearn-color-fitted-level-0);\n",
       "  border: var(--sklearn-color-fitted-level-3);\n",
       "}\n",
       "\n",
       ".sk-estimator-doc-link:hover span {\n",
       "  display: block;\n",
       "}\n",
       "\n",
       "/* \"?\"-specific style due to the `<a>` HTML tag */\n",
       "\n",
       "#sk-container-id-1 a.estimator_doc_link {\n",
       "  float: right;\n",
       "  font-size: 1rem;\n",
       "  line-height: 1em;\n",
       "  font-family: monospace;\n",
       "  background-color: var(--sklearn-color-background);\n",
       "  border-radius: 1rem;\n",
       "  height: 1rem;\n",
       "  width: 1rem;\n",
       "  text-decoration: none;\n",
       "  /* unfitted */\n",
       "  color: var(--sklearn-color-unfitted-level-1);\n",
       "  border: var(--sklearn-color-unfitted-level-1) 1pt solid;\n",
       "}\n",
       "\n",
       "#sk-container-id-1 a.estimator_doc_link.fitted {\n",
       "  /* fitted */\n",
       "  border: var(--sklearn-color-fitted-level-1) 1pt solid;\n",
       "  color: var(--sklearn-color-fitted-level-1);\n",
       "}\n",
       "\n",
       "/* On hover */\n",
       "#sk-container-id-1 a.estimator_doc_link:hover {\n",
       "  /* unfitted */\n",
       "  background-color: var(--sklearn-color-unfitted-level-3);\n",
       "  color: var(--sklearn-color-background);\n",
       "  text-decoration: none;\n",
       "}\n",
       "\n",
       "#sk-container-id-1 a.estimator_doc_link.fitted:hover {\n",
       "  /* fitted */\n",
       "  background-color: var(--sklearn-color-fitted-level-3);\n",
       "}\n",
       "</style><div id=\"sk-container-id-1\" class=\"sk-top-container\"><div class=\"sk-text-repr-fallback\"><pre>SVC(C=100, kernel=&#x27;linear&#x27;, random_state=42)</pre><b>In a Jupyter environment, please rerun this cell to show the HTML representation or trust the notebook. <br />On GitHub, the HTML representation is unable to render, please try loading this page with nbviewer.org.</b></div><div class=\"sk-container\" hidden><div class=\"sk-item\"><div class=\"sk-estimator fitted sk-toggleable\"><input class=\"sk-toggleable__control sk-hidden--visually\" id=\"sk-estimator-id-1\" type=\"checkbox\" checked><label for=\"sk-estimator-id-1\" class=\"sk-toggleable__label fitted sk-toggleable__label-arrow fitted\">&nbsp;&nbsp;SVC<a class=\"sk-estimator-doc-link fitted\" rel=\"noreferrer\" target=\"_blank\" href=\"https://scikit-learn.org/1.5/modules/generated/sklearn.svm.SVC.html\">?<span>Documentation for SVC</span></a><span class=\"sk-estimator-doc-link fitted\">i<span>Fitted</span></span></label><div class=\"sk-toggleable__content fitted\"><pre>SVC(C=100, kernel=&#x27;linear&#x27;, random_state=42)</pre></div> </div></div></div></div>"
      ],
      "text/plain": [
       "SVC(C=100, kernel='linear', random_state=42)"
      ]
     },
     "execution_count": 21,
     "metadata": {},
     "output_type": "execute_result"
    }
   ],
   "source": [
    "modelo = SVC(C = 100, kernel = 'linear', random_state=42)\n",
    "modelo.fit(X_train, y_train)"
   ]
  },
  {
   "cell_type": "code",
   "execution_count": 22,
   "metadata": {},
   "outputs": [
    {
     "name": "stdout",
     "output_type": "stream",
     "text": [
      "Precisión: 0.76\n",
      "Exhaustividad: 0.86\n",
      "Exactitud: 0.86\n"
     ]
    }
   ],
   "source": [
    "y_pred = modelo.predict(X_test)\n",
    "\n",
    "# Calculamos precisión, exhaustividad y exactitud\n",
    "precision = precision_score(y_test, y_pred, average='weighted')\n",
    "recall = recall_score(y_test, y_pred, average='weighted')\n",
    "accuracy = accuracy_score(y_test, y_pred)\n",
    "\n",
    "print(f\"Precisión: {precision:.2f}\")\n",
    "print(f\"Exhaustividad: {recall:.2f}\")\n",
    "print(f\"Exactitud: {accuracy:.2f}\")"
   ]
  },
  {
   "cell_type": "code",
   "execution_count": 23,
   "metadata": {},
   "outputs": [
    {
     "name": "stdout",
     "output_type": "stream",
     "text": [
      "C: 1, Exactitud: 0.86 (+/- 0.02)\n",
      "C: 10, Exactitud: 0.86 (+/- 0.02)\n",
      "C: 100, Exactitud: 0.86 (+/- 0.02)\n",
      "C: 1000, Exactitud: 0.86 (+/- 0.02)\n",
      "C: 5000, Exactitud: 0.86 (+/- 0.02)\n",
      "----------------------------------------\n",
      "Mejores hiperparámetros encontrados (cv)\n",
      "Mejor valor de C: 10\n",
      "Mejor Precisión: 0.76\n",
      "Mejor Exhaustividad: 0.86\n",
      "Mejor Exactitud: 0.86\n"
     ]
    }
   ],
   "source": [
    "C_values = [1, 10, 100, 1000, 5000]\n",
    "cv_results = {}\n",
    "\n",
    "# Validación cruzada para cada valor de C\n",
    "for C in C_values:\n",
    "    modelo = SVC(C=C, kernel='linear', random_state=42)\n",
    "    cv = StratifiedKFold(n_splits=5, shuffle=True, random_state=42)\n",
    "    scores = cross_val_score(modelo, X, y, cv=cv, scoring='accuracy')\n",
    "    cv_results[C] = scores.mean()\n",
    "    print(f\"C: {C}, Exactitud: {scores.mean():.2f} (+/- {scores.std() * 2:.2f})\")\n",
    "\n",
    "# Seleccionamos el mejor modelo según la validación cruzada\n",
    "best_C = max(cv_results, key=cv_results.get)\n",
    "print(\"----------------------------------------\")\n",
    "print(\"Mejores hiperparámetros encontrados (cv)\")\n",
    "print(f\"Mejor valor de C: {best_C}\")\n",
    "\n",
    "# Entrenamos el modelo final con el mejor valor de C\n",
    "best_model = SVC(C=best_C, kernel='linear', random_state=42)\n",
    "best_model.fit(X_train, y_train)\n",
    "\n",
    "# Predicciones con el mejor modelo\n",
    "y_pred_best = best_model.predict(X_test)\n",
    "\n",
    "# Evaluamos el mejor modelo en el conjunto de test\n",
    "\n",
    "precision_best = precision_score(y_test, y_pred_best, average='weighted')\n",
    "recall_best = recall_score(y_test, y_pred_best, average='weighted')\n",
    "accuracy_best = accuracy_score(y_test, y_pred_best)\n",
    "\n",
    "print(f\"Mejor Precisión: {precision_best:.2f}\")\n",
    "print(f\"Mejor Exhaustividad: {recall_best:.2f}\")\n",
    "print(f\"Mejor Exactitud: {accuracy_best:.2f}\")\n"
   ]
  },
  {
   "cell_type": "code",
   "execution_count": 24,
   "metadata": {},
   "outputs": [
    {
     "data": {
      "image/png": "[encoded data removed]",
      "text/plain": [
       "<Figure size 640x480 with 2 Axes>"
      ]
     },
     "metadata": {},
     "output_type": "display_data"
    }
   ],
   "source": [
    "# Matriz de confusion\n",
    "conf_matrix = confusion_matrix(y_test, y_pred_best)\n",
    "\n",
    "disp = ConfusionMatrixDisplay(confusion_matrix=conf_matrix)\n",
    "disp.plot(cmap=plt.cm.Blues)\n",
    "plt.show()"
   ]
  },
  {
   "cell_type": "markdown",
   "metadata": {},
   "source": [
    "**Conclusiones:**\n",
    "- La exactitud del modelo en la validación cruzada es constante en 0.86 para todos los valores de C probados. Esto sugiere que el modelo SVM con kernel lineal es bastante robusto y no es sensible a cambios en el parámetro C dentro del rango probado.\n",
    "- Aunque C=1 fue seleccionado como el \"mejor\" valor, cualquier valor de C en el rango probado sería igualmente válido dado que todos proporcionaron la misma exactitud. \n",
    "\n",
    "- Con respecto a las métricas obtenidas:\n",
    "\n",
    "    - Precisión: 0.76 (Precisión ponderada)\n",
    "    - Exhaustividad (Recall): 0.86 (Recall ponderado)\n",
    "    - Exactitud: 0.86\n",
    "\n",
    "Estas métricas indican que el modelo es capaz de predecir correctamente el 86% de las muestras en el conjunto de test.\n",
    "La precisión ponderada es de 0.76, lo que sugiere que, aunque el modelo tiene una buena exactitud general, puede haber un desequilibrio en cómo predice las diferentes clases.\n",
    "- El modelo SVM con kernel muestra un rendimiento estable en términos de exactitud para diferentes valores de C. Sin embargo, la precisión es relativamente baja comparada con la exactitud y el recall, lo que sugiere que podría haber margen para mejorar el balanceo entre las clases predichas. Probar diferentes configuraciones de modelos y ajustar los parámetros"
   ]
  },
  {
   "cell_type": "markdown",
   "metadata": {},
   "source": [
    "Vamos a intentar realizar de nuevo la validación cruzada, pero ahora usando otras métricas, ya que vimos que la exactitud se mantiene constaten para distintos valores de C."
   ]
  },
  {
   "cell_type": "code",
   "execution_count": 25,
   "metadata": {},
   "outputs": [
    {
     "name": "stdout",
     "output_type": "stream",
     "text": [
      "C: 0.1, Exactitud: 0.85, Precisión: 0.76, Exhaustividad: 0.85\n",
      "C: 1, Exactitud: 0.86, Precisión: 0.77, Exhaustividad: 0.86\n",
      "C: 10, Exactitud: 0.86, Precisión: 0.77, Exhaustividad: 0.86\n",
      "C: 100, Exactitud: 0.86, Precisión: 0.77, Exhaustividad: 0.86\n",
      "C: 1000, Exactitud: 0.86, Precisión: 0.77, Exhaustividad: 0.86\n",
      "----------------------------------------\n",
      "Mejores hiperparámetros encontrados (cv)\n",
      "Mejor valor de C: 10\n",
      "Mejor Precisión: 0.76\n",
      "Mejor Exhaustividad: 0.86\n",
      "Mejor Exactitud: 0.86\n"
     ]
    }
   ],
   "source": [
    "C_values = [0.1, 1, 10, 100, 1000]\n",
    "cv_results = {}\n",
    "\n",
    "# Métricas\n",
    "scoring = {\n",
    "    'accuracy': make_scorer(accuracy_score),\n",
    "    'precision': make_scorer(precision_score, average='weighted'),\n",
    "    'recall': make_scorer(recall_score, average='weighted')\n",
    "}\n",
    "\n",
    "# Realizamos validación cruzada para cada valor de C\n",
    "for C in C_values:\n",
    "    modelo = SVC(C=C, kernel='linear', random_state=42)\n",
    "    cv = StratifiedKFold(n_splits=5, shuffle=True, random_state=42)\n",
    "    scores = cross_validate(modelo, X, y, cv=cv, scoring=scoring)\n",
    "    \n",
    "    # Promediamos los resultados de las métricas\n",
    "    mean_scores = {metric: scores[f'test_{metric}'].mean() for metric in scoring}\n",
    "    cv_results[C] = mean_scores\n",
    "    print(f\"C: {C}, Exactitud: {mean_scores['accuracy']:.2f}, Precisión: {mean_scores['precision']:.2f}, Exhaustividad: {mean_scores['recall']:.2f}\")\n",
    "\n",
    "# Seleccionamos el mejor modelo según la exactitud promedio\n",
    "best_C = max(cv_results, key=lambda c: cv_results[c]['accuracy'])\n",
    "print(\"----------------------------------------\")\n",
    "print(\"Mejores hiperparámetros encontrados (cv)\")\n",
    "print(f\"Mejor valor de C: {best_C}\")\n",
    "\n",
    "# Entrenamos el modelo final con el mejor valor de C\n",
    "best_model = SVC(C=best_C, kernel='linear', random_state=42)\n",
    "best_model.fit(X_train, y_train)\n",
    "\n",
    "# Realizamos predicciones con el mejor modelo\n",
    "y_pred_best = best_model.predict(X_test)\n",
    "\n",
    "# Evaluamos el mejor modelo en el conjunto de test\n",
    "precision_best = precision_score(y_test, y_pred_best, average='weighted')\n",
    "recall_best = recall_score(y_test, y_pred_best, average='weighted')\n",
    "accuracy_best = accuracy_score(y_test, y_pred_best)\n",
    "\n",
    "print(f\"Mejor Precisión: {precision_best:.2f}\")\n",
    "print(f\"Mejor Exhaustividad: {recall_best:.2f}\")\n",
    "print(f\"Mejor Exactitud: {accuracy_best:.2f}\")\n"
   ]
  },
  {
   "cell_type": "markdown",
   "metadata": {},
   "source": [
    "Vemos que en este caso tampoco hay cambios en los valores de las métricas."
   ]
  },
  {
   "cell_type": "markdown",
   "metadata": {},
   "source": [
    "Ademas podemos observar que nuestro modelo solo predice clase 2 (matriz de confusión), veamos si esto mejora al realizar SVM con otro kernel."
   ]
  },
  {
   "cell_type": "markdown",
   "metadata": {},
   "source": [
    "# 3) SVM con kernel gaussiano"
   ]
  },
  {
   "cell_type": "markdown",
   "metadata": {},
   "source": [
    "Realizar la predicción del atributo Color utilizando máquinas de vectores con kernel gaussiano analizando los parámetros costo y gama. Mostar los resultados sobre los conjuntos de test (Precisión, Exhaustividad y Exactitud) utilizando validación cruzada con k =5."
   ]
  },
  {
   "cell_type": "code",
   "execution_count": 26,
   "metadata": {},
   "outputs": [
    {
     "name": "stdout",
     "output_type": "stream",
     "text": [
      "C: 0.1, Gamma: 0.1, Exactitud: 0.82, Precisión: 0.67, Exhaustividad: 0.82\n",
      "C: 0.1, Gamma: 1, Exactitud: 0.82, Precisión: 0.68, Exhaustividad: 0.82\n",
      "C: 0.1, Gamma: 10, Exactitud: 0.82, Precisión: 0.67, Exhaustividad: 0.82\n",
      "C: 1, Gamma: 0.1, Exactitud: 0.84, Precisión: 0.76, Exhaustividad: 0.84\n",
      "C: 1, Gamma: 1, Exactitud: 0.86, Precisión: 0.77, Exhaustividad: 0.86\n",
      "C: 1, Gamma: 10, Exactitud: 0.85, Precisión: 0.76, Exhaustividad: 0.85\n",
      "C: 10, Gamma: 0.1, Exactitud: 0.87, Precisión: 0.77, Exhaustividad: 0.87\n",
      "C: 10, Gamma: 1, Exactitud: 0.86, Precisión: 0.77, Exhaustividad: 0.86\n",
      "C: 10, Gamma: 10, Exactitud: 0.85, Precisión: 0.80, Exhaustividad: 0.85\n",
      "C: 100, Gamma: 0.1, Exactitud: 0.87, Precisión: 0.77, Exhaustividad: 0.87\n",
      "C: 100, Gamma: 1, Exactitud: 0.86, Precisión: 0.82, Exhaustividad: 0.86\n",
      "C: 100, Gamma: 10, Exactitud: 0.81, Precisión: 0.78, Exhaustividad: 0.81\n",
      "----------------------------------------\n",
      "Mejores hiperparámetros encontrados (cv)\n",
      "Mejor valor de C: 10, Mejor valor de gamma: 0.1\n",
      "Mejor Precisión: 0.76\n",
      "Mejor Exhaustividad: 0.86\n",
      "Mejor Exactitud: 0.86\n"
     ]
    }
   ],
   "source": [
    "C_values = [0.1, 1, 10, 100]\n",
    "gamma_values = [0.1, 1, 10]\n",
    "\n",
    "# Definimos las métricas que deseamos calcular\n",
    "scoring = {\n",
    "    'accuracy': make_scorer(accuracy_score),\n",
    "    'precision': make_scorer(precision_score, average='weighted'),\n",
    "    'recall': make_scorer(recall_score, average='weighted')\n",
    "}\n",
    "\n",
    "# Realizamos validación cruzada para cada combinación de C y gamma\n",
    "cv_results = {}\n",
    "for C in C_values:\n",
    "    for gamma in gamma_values:\n",
    "        modelo = SVC(C=C, kernel='rbf', gamma=gamma, random_state=42)\n",
    "        cv = StratifiedKFold(n_splits=5, shuffle=True, random_state=42)\n",
    "        scores = cross_validate(modelo, X_train, y_train, cv=cv, scoring=scoring)\n",
    "        \n",
    "        # Promediar los resultados de las métricas\n",
    "        mean_scores = {metric: scores[f'test_{metric}'].mean() for metric in scoring}\n",
    "        cv_results[(C, gamma)] = mean_scores\n",
    "        print(f\"C: {C}, Gamma: {gamma}, Exactitud: {mean_scores['accuracy']:.2f}, Precisión: {mean_scores['precision']:.2f}, Exhaustividad: {mean_scores['recall']:.2f}\")\n",
    "\n",
    "# Seleccionamos el mejor modelo según la exactitud promedio\n",
    "best_params = max(cv_results, key=lambda x: cv_results[x]['accuracy'])\n",
    "best_C, best_gamma = best_params\n",
    "print(\"----------------------------------------\")\n",
    "print(\"Mejores hiperparámetros encontrados (cv)\")\n",
    "print(f\"Mejor valor de C: {best_C}, Mejor valor de gamma: {best_gamma}\")\n",
    "\n",
    "# Entrenamos el modelo final con los mejores parámetros\n",
    "best_model = SVC(C=best_C, kernel='rbf', gamma=best_gamma, random_state=42)\n",
    "best_model.fit(X_train, y_train)\n",
    "\n",
    "# Realizamos predicciones con el mejor modelo en el conjunto de test\n",
    "y_pred_best = best_model.predict(X_test)\n",
    "\n",
    "# Evaluamos el mejor modelo en el conjunto de test\n",
    "precision_best = precision_score(y_test, y_pred_best, average='weighted')\n",
    "recall_best = recall_score(y_test, y_pred_best, average='weighted')\n",
    "accuracy_best = accuracy_score(y_test, y_pred_best)\n",
    "\n",
    "print(f\"Mejor Precisión: {precision_best:.2f}\")\n",
    "print(f\"Mejor Exhaustividad: {recall_best:.2f}\")\n",
    "print(f\"Mejor Exactitud: {accuracy_best:.2f}\")\n"
   ]
  },
  {
   "cell_type": "markdown",
   "metadata": {},
   "source": [
    "Como obtuvimos una exactitud del 0.86 podemos decir que el modelo predijo correctamente el color del café el 86% de las veces durante la validación cruzada.\n",
    "Por otro lado, una precisión de 0.76 significa que, de todas las muestras que el modelo predijo como de un color particular, el 76% eran correctas. Estos resultados son iguales que los obtenido en SVM con kernel lineal.\n",
    "\n",
    "Los mejores hiperparámetros encontrados son C: 10 y Gamma: 0.1, con una exactitud promedio de 0.85 en la validación cruzada. Pero podemos observar que las métricas no sufren grandes cambios en su valor en las disitntas combinaciones de paramétros."
   ]
  },
  {
   "cell_type": "code",
   "execution_count": 27,
   "metadata": {},
   "outputs": [
    {
     "data": {
      "text/plain": [
       "array([2, 2, 2, 2, 2, 2, 2, 2, 0, 2, 2, 2, 2, 2, 2, 2, 2, 2, 2, 2, 2, 2,\n",
       "       2, 2, 2, 2, 2, 2, 2, 2, 2, 2, 2, 2, 2, 2, 2, 2, 2, 2, 2, 2, 2, 0,\n",
       "       2, 2, 2, 2, 2, 2, 2, 2, 2, 2, 2, 2, 2, 2, 2, 2, 2, 2, 2, 2, 2, 2,\n",
       "       2, 2, 2, 2, 2, 2, 2, 2, 2, 2, 2, 2, 2, 2, 2, 2, 2, 2, 2, 2, 2, 2,\n",
       "       2, 2, 2, 2, 2, 0, 2, 2, 2, 0, 2, 2, 2, 2, 2, 2, 2, 2, 2, 2, 0, 2,\n",
       "       2, 2, 2, 0, 2, 2, 2, 2, 2, 2, 2, 2, 2, 2, 2, 2, 2, 2, 2, 2, 2, 2,\n",
       "       2, 2, 2, 2, 2, 2, 2, 2, 2, 2, 2, 2, 2, 2, 2, 2, 2, 2, 0, 2, 2, 2,\n",
       "       2, 2, 2, 2, 0, 2, 2, 2, 2, 2, 2, 2, 2])"
      ]
     },
     "execution_count": 27,
     "metadata": {},
     "output_type": "execute_result"
    }
   ],
   "source": [
    "y_pred_best"
   ]
  },
  {
   "cell_type": "code",
   "execution_count": 28,
   "metadata": {},
   "outputs": [
    {
     "data": {
      "image/png": "[encoded data removed]",
      "text/plain": [
       "<Figure size 640x480 with 2 Axes>"
      ]
     },
     "metadata": {},
     "output_type": "display_data"
    }
   ],
   "source": [
    "# Matriz de confusion\n",
    "conf_matrix = confusion_matrix(y_test, y_pred_best)\n",
    "\n",
    "disp = ConfusionMatrixDisplay(confusion_matrix=conf_matrix)\n",
    "disp.plot(cmap=plt.cm.Blues)\n",
    "plt.show()"
   ]
  },
  {
   "cell_type": "markdown",
   "metadata": {},
   "source": [
    "Al igual que en el algorimo anterior, solo predecimos la clase 2, que corresponde al color verde."
   ]
  },
  {
   "cell_type": "markdown",
   "metadata": {},
   "source": [
    "# 4) Predicción del atributo Color utilizando Random Forest"
   ]
  },
  {
   "cell_type": "markdown",
   "metadata": {},
   "source": [
    "Realizar la predicción del atributo Color utilizando Random Forest analizando los parámetros cantidad de estimadores y la máxima profundidad de los árboles. Mostar los\n",
    "resultados sobre los conjuntos de test (Precisión, Exhaustividad y Exactitud) utilizando\n",
    "validación cruzada con k =5."
   ]
  },
  {
   "cell_type": "code",
   "execution_count": 29,
   "metadata": {},
   "outputs": [
    {
     "name": "stdout",
     "output_type": "stream",
     "text": [
      "Mejores hiperparámetros encontrados:\n",
      "Cantidad de estimadores: 100\n",
      "Profundidad máxima de los árboles: 15\n",
      "----------------------------------------\n",
      "\n",
      "Resultados sobre el conjunto de test:\n",
      "Precisión: 0.7611\n",
      "Exhaustividad: 0.8503\n",
      "Exactitud: 0.8503\n"
     ]
    }
   ],
   "source": [
    "# Creamos el clasificador Random Forest\n",
    "# Como las clases estan desbalanceadas le ponemos como atributo class_weight='balanced'\n",
    "modelo_rf = RandomForestClassifier(random_state=42, class_weight='balanced')\n",
    "\n",
    "# Definimos los valores de hiperparámetros que deseas probar\n",
    "estimators = [50, 100, 150, 200,]  # Cantidad de estimadores\n",
    "max_depths = [None, 5, 10, 15]  # Profundidades máximas de los árboles\n",
    "\n",
    "# Realizamos la búsqueda de hiperparámetros utilizando validación cruzada\n",
    "best_score = -1\n",
    "best_estimators = None\n",
    "best_max_depth = None\n",
    "\n",
    "for n_estimators in estimators:\n",
    "    for max_depth in max_depths:\n",
    "        # Configuramos el clasificador con los hiperparámetros actuales\n",
    "        modelo_rf.set_params(n_estimators=n_estimators, max_depth=max_depth)\n",
    "        \n",
    "        # Realizamos validación cruzada\n",
    "        scores = cross_val_score(modelo_rf, X, y, cv=5, scoring='accuracy')  # Puedes usar otras métricas\n",
    "        \n",
    "        # Calculamos la precisión promedio de la validación cruzada\n",
    "        mean_score = scores.mean()\n",
    "        \n",
    "        # Guardamos el mejor modelo hasta ahora\n",
    "        if mean_score > best_score:\n",
    "            best_score = mean_score\n",
    "            best_estimators = n_estimators\n",
    "            best_max_depth = max_depth\n",
    "\n",
    "# Entrenamos el modelo final con los mejores hiperparámetros encontrados\n",
    "modelo_rf_final = RandomForestClassifier(n_estimators=best_estimators, max_depth=best_max_depth, random_state=42)\n",
    "modelo_rf_final.fit(X_train, y_train)\n",
    "\n",
    "# Realizamos predicciones en el conjunto de test\n",
    "y_pred = modelo_rf_final.predict(X_test)\n",
    "\n",
    "# Calculamos métricas de evaluación\n",
    "# Como las clases estan desbalanceadas usamos como atributo \n",
    "precision = precision_score(y_test, y_pred, average='weighted')\n",
    "recall = recall_score(y_test, y_pred, average='weighted')\n",
    "accuracy = accuracy_score(y_test, y_pred)\n",
    "\n",
    "print(\"Mejores hiperparámetros encontrados:\")\n",
    "print(\"Cantidad de estimadores:\", best_estimators)\n",
    "print(\"Profundidad máxima de los árboles:\", best_max_depth)\n",
    "print(\"----------------------------------------\")\n",
    "print(\"\\nResultados sobre el conjunto de test:\")\n",
    "print(\"Precisión:\", round(precision, 4))\n",
    "print(\"Exhaustividad:\", round(recall, 4))\n",
    "print(\"Exactitud:\", round(accuracy, 4))\n"
   ]
  },
  {
   "cell_type": "code",
   "execution_count": 30,
   "metadata": {},
   "outputs": [
    {
     "name": "stdout",
     "output_type": "stream",
     "text": [
      "Reporte de Clasificación:\n",
      "              precision    recall  f1-score   support\n",
      "\n",
      "Bluish-Green       1.00      0.75      0.86        12\n",
      "  Blue-Green       0.00      0.00      0.00        20\n",
      "       Green       0.85      0.99      0.91       135\n",
      "\n",
      "    accuracy                           0.85       167\n",
      "   macro avg       0.62      0.58      0.59       167\n",
      "weighted avg       0.76      0.85      0.80       167\n",
      "\n"
     ]
    }
   ],
   "source": [
    "# Generamos el reporte de clasificación\n",
    "class_report = classification_report(y_test, y_pred, target_names=['Bluish-Green', 'Blue-Green', 'Green'])\n",
    "\n",
    "print(\"Reporte de Clasificación:\")\n",
    "print(class_report)"
   ]
  },
  {
   "cell_type": "code",
   "execution_count": 31,
   "metadata": {},
   "outputs": [
    {
     "data": {
      "image/png": "[encoded data removed]",
      "text/plain": [
       "<Figure size 640x480 with 2 Axes>"
      ]
     },
     "metadata": {},
     "output_type": "display_data"
    }
   ],
   "source": [
    "# Matriz de confusion\n",
    "conf_matrix = confusion_matrix(y_test, y_pred)\n",
    "\n",
    "disp = ConfusionMatrixDisplay(confusion_matrix=conf_matrix)\n",
    "disp.plot(cmap=plt.cm.Blues)\n",
    "plt.show()"
   ]
  },
  {
   "cell_type": "markdown",
   "metadata": {},
   "source": [
    "En este caso vemos que ya no solo predecimos la clase Green.\n",
    "- Para la clase Bluish-Green se obtiene una precisión del 100% lo cual significa que de todas las instancias predichas como Bluish-Green, el 100% fueron correctas.\n",
    "\n",
    "- Blue-Green en este caso como la precisión es 0, indica que no se predijeron correctamente instancias como Blue-Green.\n",
    "\n",
    "-  Para la clase Green, nuvamente se obtuvieron muy buenos resultados el 85% fueron correctas y el 99% de todas las instancias reales de Green fueron correctamente \n",
    "\n",
    "**Métricas Globales**\n",
    "- Accuracy (Exactitud): 0.85 es la proporción de predicciones correctas sobre el total de instancias (167).\n",
    "\n",
    "- Macro Average (Promedio Macro):\n",
    "    - Precision: 0.62\n",
    "    - Recall: 0.58\n",
    "    - F1-score: 0.59\n",
    "Es el promedio no ponderado de las métricas individuales de cada clase. Trata todas las clases por igual, sin considerar la cantidad de instancias en cada clase.\n",
    "Weighted Average (Promedio Ponderado):\n",
    "\n",
    "La exactitud global es del 85%, pero las métricas macro indican que el rendimiento es variable entre clases.\n",
    "La diferencia entre los promedios macro y ponderado sugiere que el rendimiento es desigual, con clases desbalanceadas (probablemente debido al mal rendimiento en la clase Blue-Green)."
   ]
  },
  {
   "cell_type": "markdown",
   "metadata": {},
   "source": [
    "**Conclusiones sonbre los tres modelos:**\n",
    "\n",
    "Podemos observar, en los tres casos, que al tener desbalance de clases el modelo está muy sesgado hacia la clase Green, ignorando completamente las clases Bluish-Green y Blue-Green (salvo Random Forest)\n",
    "\n",
    "Las métricas obtenidas en todos los casos son buenas, pero esto se debe a que los modelos solo predicen la clase mayoritaria, salvo Random Forest que también predice la clase 0.\n"
   ]
  },
  {
   "cell_type": "markdown",
   "metadata": {},
   "source": [
    "# Balanceo de los datos"
   ]
  },
  {
   "cell_type": "markdown",
   "metadata": {},
   "source": [
    "En primer lugar corrimos los algoritmos sin balancear las clases y observamos con los algoritmos siempre predecian la clase 2, que es el color verde. Por lo cual a continuación vamos a balancear las clases y ver que resultados obtenemos en este caso."
   ]
  },
  {
   "cell_type": "code",
   "execution_count": 32,
   "metadata": {},
   "outputs": [
    {
     "name": "stdout",
     "output_type": "stream",
     "text": [
      "Color\n",
      "2    681\n",
      "1     96\n",
      "0     58\n",
      "Name: count, dtype: int64\n"
     ]
    }
   ],
   "source": [
    "conteo_colores = df['Color'].value_counts()\n",
    "print(conteo_colores)"
   ]
  },
  {
   "cell_type": "code",
   "execution_count": 33,
   "metadata": {},
   "outputs": [
    {
     "data": {
      "image/png": "[encoded data removed]",
      "text/plain": [
       "<Figure size 640x480 with 1 Axes>"
      ]
     },
     "metadata": {},
     "output_type": "display_data"
    }
   ],
   "source": [
    "# Graficamos la freceuncua de cada color\n",
    "conteo_colores.plot(kind='bar', color=['green', 'blue', 'cyan'])\n",
    "plt.xlabel('Color')\n",
    "plt.ylabel('Conteo')\n",
    "plt.title('Conteo de cada Color en la Columna')\n",
    "plt.show()"
   ]
  },
  {
   "cell_type": "code",
   "execution_count": 34,
   "metadata": {},
   "outputs": [],
   "source": [
    "X_train, X_test, y_train, y_test = train_test_split(X, y, test_size=0.3, random_state=42)"
   ]
  },
  {
   "cell_type": "code",
   "execution_count": 35,
   "metadata": {},
   "outputs": [],
   "source": [
    "# Balanceamos las clases\n",
    "smote = SMOTE(random_state=42)\n",
    "X_resampled, y_resampled = smote.fit_resample(X_train, y_train)"
   ]
  },
  {
   "cell_type": "code",
   "execution_count": 36,
   "metadata": {},
   "outputs": [
    {
     "name": "stdout",
     "output_type": "stream",
     "text": [
      "Color\n",
      "2    475\n",
      "0    475\n",
      "1    475\n",
      "Name: count, dtype: int64\n"
     ]
    }
   ],
   "source": [
    "# Verificamos la cantidad de datos en cada clase después de aplicar SMOTE\n",
    "conteo_clases_balanceadas = pd.Series(y_resampled).value_counts()\n",
    "print(conteo_clases_balanceadas)"
   ]
  },
  {
   "cell_type": "markdown",
   "metadata": {},
   "source": [
    "Podemos observer que ahora si estan balanceadas las clases.\n",
    "\n",
    "A continuación vamos a voler a correr los tres algoritmo ya utilizados para ver si logramos en algun caso predecir otra clase que no sea sola la clase 'Green'."
   ]
  },
  {
   "cell_type": "markdown",
   "metadata": {},
   "source": [
    "## SVM con kernel lieal"
   ]
  },
  {
   "cell_type": "code",
   "execution_count": 38,
   "metadata": {},
   "outputs": [
    {
     "name": "stdout",
     "output_type": "stream",
     "text": [
      "C: 1, Exactitud: 0.63 (+/- 0.11)\n",
      "C: 10, Exactitud: 0.68 (+/- 0.04)\n",
      "C: 100, Exactitud: 0.69 (+/- 0.05)\n",
      "C: 1000, Exactitud: 0.69 (+/- 0.05)\n",
      "----------------------------------------\n",
      "Mejores hiperparámetros encontrados (cv)\n",
      "Mejor valor de C: 1000\n",
      "Mejor Precisión: 0.79\n",
      "Mejor Exhaustividad: 0.65\n",
      "Mejor Exactitud: 0.65\n"
     ]
    }
   ],
   "source": [
    "C_values = [1, 10, 100, 1000]\n",
    "cv_results = {}\n",
    "\n",
    "# Validación cruzada para cada valor de C\n",
    "for C in C_values:\n",
    "    modelo = SVC(C=C, kernel='linear', random_state=42)\n",
    "    cv = StratifiedKFold(n_splits=5, shuffle=True, random_state=42)\n",
    "    scores = cross_val_score(modelo, X_resampled, y_resampled, cv=cv, scoring='accuracy')\n",
    "    cv_results[C] = scores.mean()\n",
    "    print(f\"C: {C}, Exactitud: {scores.mean():.2f} (+/- {scores.std() * 2:.2f})\")\n",
    "\n",
    "# Seleccionamos el mejor modelo según la validación cruzada\n",
    "best_C = max(cv_results, key=cv_results.get)\n",
    "print(\"----------------------------------------\")\n",
    "print(\"Mejores hiperparámetros encontrados (cv)\")\n",
    "print(f\"Mejor valor de C: {best_C}\")\n",
    "\n",
    "# Entrenamos el modelo final con el mejor valor de C\n",
    "best_model = SVC(C=best_C, kernel='linear', random_state=42)\n",
    "best_model.fit(X_resampled, y_resampled)\n",
    "\n",
    "# Predicciones con el mejor modelo\n",
    "y_pred_best_l = best_model.predict(X_test)\n",
    "\n",
    "# Evaluamos el mejor modelo en el conjunto de test\n",
    "precision_best_l = precision_score(y_test, y_pred_best_l, average='weighted')\n",
    "recall_best_l = recall_score(y_test, y_pred_best_l, average='weighted')\n",
    "accuracy_best_l = accuracy_score(y_test, y_pred_best_l)\n",
    "\n",
    "print(f\"Mejor Precisión: {precision_best_l:.2f}\")\n",
    "print(f\"Mejor Exhaustividad: {recall_best_l:.2f}\")\n",
    "print(f\"Mejor Exactitud: {accuracy_best_l:.2f}\")"
   ]
  },
  {
   "cell_type": "code",
   "execution_count": 39,
   "metadata": {},
   "outputs": [
    {
     "data": {
      "text/plain": [
       "array([1, 2, 1, 2, 2, 0, 2, 2, 0, 2, 1, 2, 2, 2, 1, 2, 2, 1, 1, 1, 2, 2,\n",
       "       2, 2, 2, 2, 1, 2, 1, 2, 2, 1, 2, 1, 1, 1, 1, 2, 1, 2, 1, 1, 1, 0,\n",
       "       1, 1, 2, 1, 2, 2, 2, 2, 2, 2, 2, 2, 2, 2, 2, 2, 1, 2, 1, 2, 2, 2,\n",
       "       2, 2, 2, 2, 2, 2, 1, 2, 1, 2, 1, 2, 1, 1, 2, 2, 1, 2, 2, 1, 2, 1,\n",
       "       2, 2, 2, 2, 2, 0, 1, 2, 2, 0, 2, 2, 2, 2, 2, 2, 1, 1, 1, 2, 0, 1,\n",
       "       2, 2, 1, 0, 2, 2, 2, 2, 1, 0, 2, 2, 1, 2, 2, 2, 1, 2, 2, 1, 2, 2,\n",
       "       0, 2, 2, 2, 1, 2, 2, 2, 2, 2, 1, 1, 1, 2, 2, 1, 2, 2, 0, 1, 1, 2,\n",
       "       2, 2, 1, 2, 0, 2, 1, 1, 2, 2, 2, 0, 2, 2, 2, 0, 1, 1, 1, 1, 2, 2,\n",
       "       0, 2, 2, 2, 2, 2, 2, 2, 2, 2, 1, 1, 2, 2, 2, 1, 2, 1, 1, 2, 2, 1,\n",
       "       2, 2, 2, 2, 2, 2, 1, 2, 1, 1, 1, 2, 2, 1, 2, 2, 2, 2, 1, 2, 1, 2,\n",
       "       1, 0, 2, 1, 2, 2, 0, 2, 2, 1, 2, 2, 2, 2, 2, 2, 2, 1, 2, 2, 1, 1,\n",
       "       2, 2, 1, 1, 2, 2, 2, 2, 1])"
      ]
     },
     "execution_count": 39,
     "metadata": {},
     "output_type": "execute_result"
    }
   ],
   "source": [
    "y_pred_best_l"
   ]
  },
  {
   "cell_type": "code",
   "execution_count": 40,
   "metadata": {},
   "outputs": [
    {
     "data": {
      "image/png": "[encoded data removed]",
      "text/plain": [
       "<Figure size 640x480 with 2 Axes>"
      ]
     },
     "metadata": {},
     "output_type": "display_data"
    }
   ],
   "source": [
    "# Matriz de confusion\n",
    "conf_matrix = confusion_matrix(y_test, y_pred_best_l)\n",
    "\n",
    "disp = ConfusionMatrixDisplay(confusion_matrix=conf_matrix)\n",
    "disp.plot(cmap=plt.cm.Blues)\n",
    "plt.show()"
   ]
  },
  {
   "cell_type": "markdown",
   "metadata": {},
   "source": [
    "Podemos observar que ya no solo predicimos la clase Green, si no que todas.\n",
    "El balanceo de clases reduce significativamente la exactitud global del modelo en la validación cruzada y en el conjunto de test.\n",
    "\n",
    "Aunque la precisión mejora ligeramente, la exhaustividad y la exactitud disminuyen. Esto sugiere que, aunque el modelo se está esforzando más por equilibrar las clases, todavía no está logrando un buen desempeño global."
   ]
  },
  {
   "cell_type": "markdown",
   "metadata": {},
   "source": [
    "## SVM con kernel gaussiano"
   ]
  },
  {
   "cell_type": "code",
   "execution_count": 41,
   "metadata": {},
   "outputs": [
    {
     "name": "stdout",
     "output_type": "stream",
     "text": [
      "C: 0.1, Gamma: 0.1, Exactitud: 0.59, Precisión: 0.69, Exhaustividad: 0.59\n",
      "C: 0.1, Gamma: 1, Exactitud: 0.59, Precisión: 0.66, Exhaustividad: 0.59\n",
      "C: 0.1, Gamma: 10, Exactitud: 0.64, Precisión: 0.68, Exhaustividad: 0.64\n",
      "C: 1, Gamma: 0.1, Exactitud: 0.60, Precisión: 0.67, Exhaustividad: 0.60\n",
      "C: 1, Gamma: 1, Exactitud: 0.66, Precisión: 0.72, Exhaustividad: 0.66\n",
      "C: 1, Gamma: 10, Exactitud: 0.73, Precisión: 0.76, Exhaustividad: 0.73\n",
      "C: 10, Gamma: 0.1, Exactitud: 0.66, Precisión: 0.71, Exhaustividad: 0.66\n",
      "C: 10, Gamma: 1, Exactitud: 0.71, Precisión: 0.75, Exhaustividad: 0.71\n",
      "C: 10, Gamma: 10, Exactitud: 0.80, Precisión: 0.81, Exhaustividad: 0.80\n",
      "C: 100, Gamma: 0.1, Exactitud: 0.69, Precisión: 0.73, Exhaustividad: 0.69\n",
      "C: 100, Gamma: 1, Exactitud: 0.74, Precisión: 0.76, Exhaustividad: 0.74\n",
      "C: 100, Gamma: 10, Exactitud: 0.87, Precisión: 0.87, Exhaustividad: 0.87\n",
      "----------------------------------------\n",
      "Mejores hiperparámetros encontrados (cv)\n",
      "Mejor valor de C: 100, Mejor valor de gamma: 10\n",
      "Mejor Precisión: 0.70\n",
      "Mejor Exhaustividad: 0.64\n",
      "Mejor Exactitud: 0.64\n"
     ]
    }
   ],
   "source": [
    "C_values = [0.1, 1, 10, 100]\n",
    "gamma_values = [0.1, 1, 10]\n",
    "\n",
    "# Definimos las métricas que deseamos calcular\n",
    "scoring = {\n",
    "    'accuracy': make_scorer(accuracy_score),\n",
    "    'precision': make_scorer(precision_score, average='weighted'),\n",
    "    'recall': make_scorer(recall_score, average='weighted')\n",
    "}\n",
    "\n",
    "# Realizamos validación cruzada para cada combinación de C y gamma\n",
    "cv_results = {}\n",
    "for C in C_values:\n",
    "    for gamma in gamma_values:\n",
    "        modelo = SVC(C=C, kernel='rbf', gamma=gamma, random_state=42)\n",
    "        cv = StratifiedKFold(n_splits=5, shuffle=True, random_state=42)\n",
    "        scores = cross_validate(modelo, X_resampled, y_resampled, cv=cv, scoring=scoring)\n",
    "        \n",
    "        # Promediar los resultados de las métricas\n",
    "        mean_scores = {metric: scores[f'test_{metric}'].mean() for metric in scoring}\n",
    "        cv_results[(C, gamma)] = mean_scores\n",
    "        print(f\"C: {C}, Gamma: {gamma}, Exactitud: {mean_scores['accuracy']:.2f}, Precisión: {mean_scores['precision']:.2f}, Exhaustividad: {mean_scores['recall']:.2f}\")\n",
    "\n",
    "# Seleccionamos el mejor modelo según la exactitud promedio\n",
    "best_params = max(cv_results, key=lambda x: cv_results[x]['accuracy'])\n",
    "best_C, best_gamma = best_params\n",
    "print(\"----------------------------------------\")\n",
    "print(\"Mejores hiperparámetros encontrados (cv)\")\n",
    "print(f\"Mejor valor de C: {best_C}, Mejor valor de gamma: {best_gamma}\")\n",
    "\n",
    "# Entrenamos el modelo final con los mejores parámetros\n",
    "best_model = SVC(C=best_C, kernel='rbf', gamma=best_gamma, random_state=42)\n",
    "best_model.fit(X_resampled, y_resampled)\n",
    "\n",
    "# Realizamos predicciones con el mejor modelo en el conjunto de test\n",
    "y_pred_best_g = best_model.predict(X_test)\n",
    "\n",
    "# Evaluamos el mejor modelo en el conjunto de test\n",
    "precision_best_g = precision_score(y_test, y_pred_best_g, average='weighted')\n",
    "recall_best_g = recall_score(y_test, y_pred_best_g, average='weighted')\n",
    "accuracy_best_g = accuracy_score(y_test, y_pred_best_g)\n",
    "\n",
    "print(f\"Mejor Precisión: {precision_best_g:.2f}\")\n",
    "print(f\"Mejor Exhaustividad: {recall_best_g:.2f}\")\n",
    "print(f\"Mejor Exactitud: {accuracy_best_g:.2f}\")\n"
   ]
  },
  {
   "cell_type": "code",
   "execution_count": 42,
   "metadata": {},
   "outputs": [
    {
     "data": {
      "text/plain": [
       "array([1, 1, 1, 0, 0, 2, 2, 2, 2, 2, 2, 0, 1, 1, 0, 2, 2, 1, 1, 2, 2, 2,\n",
       "       2, 2, 2, 1, 1, 2, 1, 2, 2, 2, 2, 2, 2, 2, 0, 2, 1, 2, 2, 2, 2, 0,\n",
       "       2, 1, 2, 1, 2, 2, 1, 0, 2, 2, 2, 2, 2, 2, 2, 2, 1, 2, 2, 0, 2, 1,\n",
       "       2, 2, 2, 2, 2, 2, 2, 2, 0, 2, 2, 2, 2, 2, 2, 2, 2, 2, 2, 1, 2, 1,\n",
       "       2, 2, 2, 2, 2, 0, 1, 2, 2, 2, 2, 2, 2, 2, 2, 2, 2, 2, 0, 2, 0, 1,\n",
       "       2, 2, 1, 2, 2, 2, 2, 2, 2, 2, 0, 2, 2, 2, 0, 2, 2, 1, 0, 1, 2, 2,\n",
       "       2, 2, 2, 2, 2, 2, 2, 2, 2, 2, 0, 2, 2, 2, 2, 2, 2, 2, 0, 1, 2, 1,\n",
       "       2, 1, 2, 2, 2, 1, 2, 1, 2, 2, 2, 2, 1, 2, 2, 0, 2, 1, 1, 2, 2, 2,\n",
       "       2, 2, 2, 2, 2, 2, 2, 2, 2, 2, 2, 2, 0, 1, 2, 2, 2, 2, 1, 2, 0, 2,\n",
       "       2, 2, 2, 2, 2, 2, 1, 2, 1, 1, 2, 2, 2, 2, 2, 0, 2, 2, 2, 0, 1, 2,\n",
       "       1, 2, 2, 1, 2, 2, 0, 2, 2, 2, 2, 2, 0, 2, 2, 2, 2, 2, 2, 2, 2, 1,\n",
       "       2, 2, 0, 1, 2, 0, 2, 0, 2])"
      ]
     },
     "execution_count": 42,
     "metadata": {},
     "output_type": "execute_result"
    }
   ],
   "source": [
    "y_pred_best_g"
   ]
  },
  {
   "cell_type": "code",
   "execution_count": 43,
   "metadata": {},
   "outputs": [
    {
     "data": {
      "image/png": "[encoded data removed]",
      "text/plain": [
       "<Figure size 640x480 with 2 Axes>"
      ]
     },
     "metadata": {},
     "output_type": "display_data"
    }
   ],
   "source": [
    "# Matriz de confusion\n",
    "conf_matrix = confusion_matrix(y_test, y_pred_best_g)\n",
    "\n",
    "disp = ConfusionMatrixDisplay(confusion_matrix=conf_matrix)\n",
    "disp.plot(cmap=plt.cm.Blues)\n",
    "plt.show()"
   ]
  },
  {
   "cell_type": "markdown",
   "metadata": {},
   "source": [
    "## Predicción del atributo Color utilizando Random Forest"
   ]
  },
  {
   "cell_type": "code",
   "execution_count": 44,
   "metadata": {},
   "outputs": [
    {
     "name": "stdout",
     "output_type": "stream",
     "text": [
      "Mejores hiperparámetros encontrados:\n",
      "Cantidad de estimadores: 200\n",
      "Profundidad máxima de los árboles: 10\n",
      "----------------------------------------\n",
      "\n",
      "Resultados sobre el conjunto de test:\n",
      "Precisión: 0.8294\n",
      "Exhaustividad: 0.8406\n",
      "Exactitud: 0.8406\n"
     ]
    }
   ],
   "source": [
    "# Creamos el clasificador Random Forest\n",
    "modelo_rf = RandomForestClassifier(random_state=42)\n",
    "\n",
    "# Definimos los valores de hiperparámetros que deseas probar\n",
    "estimators = [50, 100, 150, 200,]  # Cantidad de estimadores\n",
    "max_depths = [None, 5, 10, 15]  # Profundidades máximas de los árboles\n",
    "\n",
    "# Realizamos la búsqueda de hiperparámetros utilizando validación cruzada\n",
    "best_score = -1\n",
    "best_estimators = None\n",
    "best_max_depth = None\n",
    "\n",
    "for n_estimators in estimators:\n",
    "    for max_depth in max_depths:\n",
    "        # Configuramos el clasificador con los hiperparámetros actuales\n",
    "        modelo_rf.set_params(n_estimators=n_estimators, max_depth=max_depth)\n",
    "        \n",
    "        # Realizamos validación cruzada\n",
    "        scores = cross_val_score(modelo_rf, X, y, cv=5, scoring='accuracy')  # Puedes usar otras métricas\n",
    "        \n",
    "        # Calculamos la precisión promedio de la validación cruzada\n",
    "        mean_score = scores.mean()\n",
    "        \n",
    "        # Guardamos el mejor modelo hasta ahora\n",
    "        if mean_score > best_score:\n",
    "            best_score = mean_score\n",
    "            best_estimators = n_estimators\n",
    "            best_max_depth = max_depth\n",
    "\n",
    "# Entrenamos el modelo final con los mejores hiperparámetros encontrados\n",
    "modelo_rf_final = RandomForestClassifier(n_estimators=best_estimators, max_depth=best_max_depth, random_state=42)\n",
    "modelo_rf_final.fit(X_resampled, y_resampled)\n",
    "\n",
    "# Realizamos predicciones en el conjunto de test\n",
    "y_pred_best_rf = modelo_rf_final.predict(X_test)\n",
    "\n",
    "# Calculamos métricas de evaluación\n",
    "precision_rf = precision_score(y_test, y_pred_best_rf, average='weighted')\n",
    "recall_rf = recall_score(y_test, y_pred_best_rf, average='weighted')\n",
    "accuracy_rf = accuracy_score(y_test, y_pred_best_rf)\n",
    "\n",
    "print(\"Mejores hiperparámetros encontrados:\")\n",
    "print(\"Cantidad de estimadores:\", best_estimators)\n",
    "print(\"Profundidad máxima de los árboles:\", best_max_depth)\n",
    "print(\"----------------------------------------\")\n",
    "print(\"\\nResultados sobre el conjunto de test:\")\n",
    "print(\"Precisión:\", round(precision_rf, 4))\n",
    "print(\"Exhaustividad:\", round(recall_rf, 4))\n",
    "print(\"Exactitud:\", round(accuracy_rf, 4))\n"
   ]
  },
  {
   "cell_type": "code",
   "execution_count": null,
   "metadata": {},
   "outputs": [
    {
     "data": {
      "text/plain": [
       "array([2, 2, 0, 2, 2, 2, 2, 0, 2, 2, 1, 0, 2, 2, 1, 2, 2, 2, 1, 2, 0, 2,\n",
       "       2, 0, 2, 2, 0, 2, 0, 0, 2, 2, 2, 2, 1, 1, 0, 2, 1, 2, 1, 0, 2, 2,\n",
       "       1, 1, 2, 1, 2, 2, 2, 2, 2, 2, 2, 2, 0, 2, 2, 2, 1, 2, 1, 2, 2, 2,\n",
       "       2, 2, 2, 2, 2, 2, 2, 2, 0, 2, 1, 2, 1, 1, 2, 2, 1, 2, 2, 1, 2, 1,\n",
       "       1, 2, 2, 2, 2, 2, 2, 2, 0, 2, 2, 2, 2, 2, 2, 2, 1, 2, 0, 2, 0, 1,\n",
       "       2, 2, 1, 1, 0, 2, 0, 0, 1, 2, 2, 2, 2, 2, 0, 1, 2, 2, 2, 1, 2, 2,\n",
       "       2, 2, 2, 2, 0, 0, 2, 2, 2, 2, 1, 0, 2, 1, 2, 2, 2, 2, 2, 1, 1, 2,\n",
       "       2, 2, 1, 2, 2, 2, 2, 1, 2, 2, 2, 2, 2, 2, 2, 0, 1, 1, 2, 1, 2, 2,\n",
       "       2, 2, 2, 2, 2, 1, 0, 2, 2, 2, 1, 2, 2, 2, 2, 2, 2, 2, 1, 2, 0, 1,\n",
       "       2, 0, 2, 2, 2, 2, 0, 2, 0, 2, 2, 0, 2, 1, 2, 2, 2, 2, 1, 2, 1, 2,\n",
       "       0, 2, 2, 2, 2, 2, 2, 2, 2, 1, 2, 2, 0, 2, 0, 2, 2, 1, 2, 2, 1, 1,\n",
       "       2, 2, 0, 1, 2, 2, 2, 2, 1])"
      ]
     },
     "execution_count": 113,
     "metadata": {},
     "output_type": "execute_result"
    }
   ],
   "source": [
    "y_pred_best_rf"
   ]
  },
  {
   "cell_type": "code",
   "execution_count": 45,
   "metadata": {},
   "outputs": [
    {
     "data": {
      "image/png": "[encoded data removed]",
      "text/plain": [
       "<Figure size 640x480 with 2 Axes>"
      ]
     },
     "metadata": {},
     "output_type": "display_data"
    }
   ],
   "source": [
    "# Matriz de confusion\n",
    "conf_matrix = confusion_matrix(y_test, y_pred_best_rf)\n",
    "\n",
    "disp = ConfusionMatrixDisplay(confusion_matrix=conf_matrix)\n",
    "disp.plot(cmap=plt.cm.Blues)\n",
    "plt.show()"
   ]
  },
  {
   "cell_type": "markdown",
   "metadata": {},
   "source": [
    "Observamos que este algoritmo, al igual que los anteriores predice todas las clases y no solo la clase Green.\n",
    "Por ejemolo en matriz de confusión podemos observar que 2 instancias de la clase 0 fueron clasificadas correctamente, mientras que 2 se clasificaron como clase 1 y 12 se casificaron como clase 12.\n",
    "\n",
    "En la segunda fila vemos que 7 instancias de la clase 1 se clasificaron correctamente como clase 1, mientras que 4 se clasificaron incorrectamente como clase 0 y 18 como clase 2.\n",
    "\n",
    "La clase 2 es la que mas clsificaciones correctas tiene."
   ]
  },
  {
   "cell_type": "markdown",
   "metadata": {},
   "source": [
    "## Conclusiones"
   ]
  },
  {
   "cell_type": "code",
   "execution_count": 46,
   "metadata": {},
   "outputs": [
    {
     "name": "stdout",
     "output_type": "stream",
     "text": [
      "            Modelo  Precisión  Exhaustividad  Exactitud\n",
      "0     SVM (Lineal)   0.793032       0.653386   0.653386\n",
      "1  SVM (Gaussiano)   0.700280       0.637450   0.637450\n",
      "2    Random Forest   0.829360       0.840637   0.840637\n"
     ]
    }
   ],
   "source": [
    "data = {\n",
    "    'Modelo': ['SVM (Lineal)', 'SVM (Gaussiano)', 'Random Forest'],\n",
    "    'Precisión': [precision_best_l, precision_best_g, precision_rf],\n",
    "    'Exhaustividad': [recall_best_l, recall_best_g, recall_rf],\n",
    "    'Exactitud': [accuracy_best_l, accuracy_best_g, accuracy_rf]\n",
    "}\n",
    "\n",
    "# Convertir el diccionario en un DataFrame\n",
    "df_comparativo = pd.DataFrame(data)\n",
    "\n",
    "# Mostrar el DataFrame\n",
    "print(df_comparativo)\n",
    "\n",
    "# Opcional: Puedes guardar el DataFrame en un archivo CSV para futuras referencias\n",
    "df_comparativo.to_csv('comparacion_modelos.csv', index=False)"
   ]
  },
  {
   "cell_type": "markdown",
   "metadata": {},
   "source": [
    "SVM lineal y gaussiano tienen un precision, una exhaustividad y una accuracy muy similar, mientras que estos valores en el caso de Random Forest son considerablemente superiores.\n",
    "\n",
    "Random Forest parece ser el mejor modelo entre los tres, con valores superiores en todas las métricas comparadas."
   ]
  },
  {
   "cell_type": "markdown",
   "metadata": {},
   "source": [
    "Por otro lado los valores obtenidos con Random Forest **sin balancear** los datos previamente fueron:\n",
    "\n",
    "Resultados sobre el conjunto de test:\n",
    "- Precisión: 0.7611\n",
    "- Exhaustividad: 0.8503\n",
    "- Exactitud: 0.8503\n",
    "\n",
    "Comparando ambos algoritmos de Random Forest, sin balancear y balanceado podemos decir que las métricas son basntantes similares. Incluso al balancear los datos logramos mayor precision."
   ]
  },
  {
   "cell_type": "markdown",
   "metadata": {},
   "source": [
    "Al analizar los resultados, observamos que las métricas de rendimiento empeoran cuando balanceamos las clases, en comparación con los resultados obtenidos sin balancear los datos. En el contexto del café, si no es problemático predecir únicamente las clases 'Green' y 'Bluish-Green', podríamos optar por un modelo sin balancear los datos Random Forest ya que SVM con kernel linal y gaussiano solo predicen la clase Green. Sin embargo, si es esencial predecir todas las clases de manera efectiva, es necesario balancear los datos primero.\n",
    "\n",
    "En los algoritmos donde las clases están balanceadas, los resultados muestran que el modelo de Random Forest tiene un rendimiento superior en comparación con los otros algoritmos."
   ]
  }
 ],
 "metadata": {
  "kernelspec": {
   "display_name": "base",
   "language": "python",
   "name": "python3"
  },
  "language_info": {
   "codemirror_mode": {
    "name": "ipython",
    "version": 3
   },
   "file_extension": ".py",
   "mimetype": "text/x-python",
   "name": "python",
   "nbconvert_exporter": "python",
   "pygments_lexer": "ipython3",
   "version": "3.11.7"
  }
 },
 "nbformat": 4,
 "nbformat_minor": 2
}
